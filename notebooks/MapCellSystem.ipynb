{
 "cells": [
  {
   "cell_type": "markdown",
   "metadata": {},
   "source": [
    "# Sistema de cuadrículas del mapa\n",
    "## Características\n",
    "Las características del mapa de la ciudad y de las cuadrículas son las siguientes:\n",
    "\n",
    "* El mapa está compuesto de 300 cuadrículas de alto por 300 de ancho.(300x300)\n",
    "* Cada cuadrícula corresponde a 0,5 km de ancho y de alto. Esto corresponde a 0,004491556 en latitud y 0,005986 en longitud.\n",
    "* La cuadrícula del mapa empieza en la celda (1,1) cuyo centro se sitúa en la posición 41.474937 de latitud y -74.913585 de longitud, que se encuentra en Barryville. (41.474937, -74.913585)\n",
    "* Los números de las celdas se expanden hacia el este y el sur, donde el este es la primer componente de la posición y, el sur, la segunda. __Posición -> (X,Y) donde X = Este, Y = Sur__\n",
    "* El mapa se expandirá 150 kilómetros al este y sur, suponiendo la celda (300,300) la máxima amplitud.\n",
    "* No se tendrán en cuenta los viajes que empiecen o terminen fuera de las celdas indexadas."
   ]
  },
  {
   "cell_type": "markdown",
   "metadata": {},
   "source": [
    "## Tratamiento de las celdas\n",
    "\n",
    "El mapa lo guardaremos en una lista que contendrá la información de cada cuadrícula del mapa. Esta información consistirá en una tupla que contendrá los siguientes datos:\n",
    "\n",
    "* Coordenadas de la casilla. (X,Y)\n",
    "* Posición esquina superior izquierda (latitud, longitud)\n",
    "\n",
    "Estos datos serán inmutables y, por razones de velocidad de acceso, serán guardados en tuplas de python."
   ]
  },
  {
   "cell_type": "markdown",
   "metadata": {},
   "source": [
    "## Primera celda\n",
    "Como se ha indicado anteriormente, la primera celda (1,1) tiene el punto central en las coordenadas (41.474937, -74.913585), por lo que hay que calcular la posición de la esquina superior izquierda de esta primera para posteriormente calcular la posición del resto de las cuadrículas del mapa. Por tanto:\n",
    "\n",
    "* Latitud de la esquina superior izquierda -> 41.474937 + 0,004491556/2 = 41.477182778\n",
    "* Longitud esquina superior izquierda -> -74.913585 - 0.005986/2 = -74.916578\n",
    "\n",
    "La posición de la esquina superior de la cuadrícula (1,1) es (41.477182778,-74.916578)\n",
    "\n",
    "Por tanto cada cuadrícula tendrá la siguiente forma:\n",
    "    \n",
    "    punto = (X, Y, latitudEsqIzqSup, longitudEsqIzqSup)"
   ]
  },
  {
   "cell_type": "code",
   "execution_count": 1,
   "metadata": {
    "collapsed": true
   },
   "outputs": [],
   "source": [
    "from settings import *\n",
    "import numpy as np\n",
    "import pandas as pd"
   ]
  },
  {
   "cell_type": "code",
   "execution_count": 2,
   "metadata": {
    "collapsed": false
   },
   "outputs": [],
   "source": [
    "p = (1, 1, 41.477182778, -74.916578)\n",
    "mapa = []"
   ]
  },
  {
   "cell_type": "code",
   "execution_count": 3,
   "metadata": {
    "collapsed": false
   },
   "outputs": [],
   "source": [
    "for y in range(MAPSIZE):\n",
    "    for x in range(MAPSIZE):\n",
    "        mapa.append((p[0]+x, p[1]+y, p[2]-(y*LATITUDE), p[3]+(x*LONGITUDE)))"
   ]
  },
  {
   "cell_type": "code",
   "execution_count": 4,
   "metadata": {
    "collapsed": false
   },
   "outputs": [],
   "source": [
    "fichero = pd.DataFrame(data=mapa,columns=[\"X\", \"Y\", \"LATITUD\", \"LONGITUD\"])"
   ]
  },
  {
   "cell_type": "code",
   "execution_count": 5,
   "metadata": {
    "collapsed": false
   },
   "outputs": [],
   "source": [
    "fichero.to_csv(\"CuadriculaMapa.csv\")"
   ]
  }
 ],
 "metadata": {
  "kernelspec": {
   "display_name": "Python [conda env:taxinyc]",
   "language": "python",
   "name": "conda-env-taxinyc-py"
  },
  "language_info": {
   "codemirror_mode": {
    "name": "ipython",
    "version": 3
   },
   "file_extension": ".py",
   "mimetype": "text/x-python",
   "name": "python",
   "nbconvert_exporter": "python",
   "pygments_lexer": "ipython3",
   "version": "3.5.2"
  }
 },
 "nbformat": 4,
 "nbformat_minor": 2
}
