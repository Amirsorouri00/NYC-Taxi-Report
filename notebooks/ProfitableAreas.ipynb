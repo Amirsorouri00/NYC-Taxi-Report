{
 "cells": [
  {
   "cell_type": "code",
   "execution_count": 1,
   "metadata": {
    "collapsed": true
   },
   "outputs": [],
   "source": [
    "from pyspark.conf import SparkConf\n",
    "from pyspark.sql import SparkSession\n",
    "from pyspark.sql.functions import *\n",
    "from datetime import *\n",
    "from settings import obtener_timestamp\n",
    "import time"
   ]
  },
  {
   "cell_type": "code",
   "execution_count": 2,
   "metadata": {
    "collapsed": false
   },
   "outputs": [
    {
     "data": {
      "text/plain": [
       "<pyspark.conf.SparkConf at 0x7fd2496ca710>"
      ]
     },
     "execution_count": 2,
     "metadata": {},
     "output_type": "execute_result"
    }
   ],
   "source": [
    "\"\"\" Configuramos Spark \"\"\"\n",
    "conf = SparkConf()\n",
    "conf.setAppName(\"ProcesamientoDatos\")\n",
    "conf.setMaster(\"local[4]\")"
   ]
  },
  {
   "cell_type": "code",
   "execution_count": 3,
   "metadata": {
    "collapsed": true
   },
   "outputs": [],
   "source": [
    "spark = SparkSession.builder.config(conf=conf).getOrCreate()"
   ]
  },
  {
   "cell_type": "code",
   "execution_count": 4,
   "metadata": {
    "collapsed": true
   },
   "outputs": [],
   "source": [
    "data = spark.read.format('parquet').load('pruebas.parquet/')"
   ]
  },
  {
   "cell_type": "code",
   "execution_count": 5,
   "metadata": {
    "collapsed": false
   },
   "outputs": [],
   "source": [
    "tiempoFin = obtener_timestamp(\"2013-01-01\", \"00:30\")\n",
    "tiempo30 = tiempoFin - timedelta(minutes=30)\n",
    "tiempo15 = tiempoFin - timedelta(minutes=15)"
   ]
  },
  {
   "cell_type": "markdown",
   "metadata": {},
   "source": [
    "### Consulta 2: Zonas que más beneficios pueden procurar\n",
    "\n",
    "En esta segunda búsqueda lo que vamos a obtener es las 10 zonas que más beneficios pueden generar en el momento de la búsqueda (hora introducida). La cantidad de benficio de una zona consigue dividiendo el beneficio de una zona por la catidad de taxis vacios que hay en la zona.\n",
    "\n",
    "El beneficio de una zona es la media de la suma de la tarifa y la propina de los viajes que han acabado en los últimos 15 minutos y empezaron en esa zona. \n",
    "\n",
    "Por otro lado, para el número de taxis, se tendrán en cuenta el número de taxis vacíos en una zona durante los 30 minutos anteriores. \n",
    "\n",
    "    hora_subida, hora_bajada, area_mas_beneficiosa_1, ..., area_mas_beneficiosa_10, tiempo_ejecucion"
   ]
  },
  {
   "cell_type": "markdown",
   "metadata": {},
   "source": [
    "Vamos a empezar con los taxis vacíos en una zona.\n",
    "\n",
    "- Primero filtraremos los viajes acabados en la última media hora y nos quedamos con el último viaje acabado.\n",
    "- Ahora buscamos el último viaje empezado por los taxis en esa franja de tiempo"
   ]
  },
  {
   "cell_type": "markdown",
   "metadata": {},
   "source": [
    "Prueba de que nos quedamos con el último viaje acabado de cada taxi, eliminando si ha hecho más de un viaje."
   ]
  },
  {
   "cell_type": "code",
   "execution_count": 6,
   "metadata": {
    "collapsed": false
   },
   "outputs": [],
   "source": [
    "tripsDown = data.where(data.hora_bajada <= tiempoFin).where(data.hora_bajada > tiempo30)"
   ]
  },
  {
   "cell_type": "code",
   "execution_count": 7,
   "metadata": {
    "collapsed": false
   },
   "outputs": [],
   "source": [
    "trips30 = tripsDown.select(\"medallon\", \"hora_bajada\", \"cuad_latitud_bajada\", \"cuad_longitud_bajada\").orderBy([\"medallon\",\"hora_bajada\"], ascending=[1,0]) \\\n",
    "    "
   ]
  },
  {
   "cell_type": "code",
   "execution_count": 8,
   "metadata": {
    "collapsed": true
   },
   "outputs": [],
   "source": [
    "trips40 = tripsDown.select(\"medallon\", \"hora_bajada\", \"cuad_latitud_bajada\", \"cuad_longitud_bajada\").orderBy(\"hora_bajada\", ascending=False) \\\n",
    "    .dropDuplicates(subset=[\"medallon\"]).orderBy([\"medallon\",\"hora_bajada\"], ascending=[1,0])"
   ]
  },
  {
   "cell_type": "code",
   "execution_count": 9,
   "metadata": {
    "collapsed": false
   },
   "outputs": [
    {
     "name": "stdout",
     "output_type": "stream",
     "text": [
      "+--------------------+--------------------+-------------------+--------------------+\n",
      "|            medallon|         hora_bajada|cuad_latitud_bajada|cuad_longitud_bajada|\n",
      "+--------------------+--------------------+-------------------+--------------------+\n",
      "|07290D3599E7A0D62...|2013-01-01 00:02:...|                170|                 160|\n",
      "|0EC22AAF491A8BD91...|2013-01-01 00:25:...|                160|                 159|\n",
      "|120E700FE35B2DDBE...|2013-01-01 00:05:...|                163|                 156|\n",
      "|1E5F4C1CAE7AB3D06...|2013-01-01 00:26:...|                160|                 159|\n",
      "|C306CAC565429C128...|2013-01-01 00:28:...|                162|                 155|\n",
      "|C306CAC565429C128...|2013-01-01 00:04:...|                152|                 165|\n",
      "+--------------------+--------------------+-------------------+--------------------+\n",
      "\n",
      "+--------------------+--------------------+-------------------+--------------------+\n",
      "|            medallon|         hora_bajada|cuad_latitud_bajada|cuad_longitud_bajada|\n",
      "+--------------------+--------------------+-------------------+--------------------+\n",
      "|07290D3599E7A0D62...|2013-01-01 00:02:...|                170|                 160|\n",
      "|0EC22AAF491A8BD91...|2013-01-01 00:25:...|                160|                 159|\n",
      "|120E700FE35B2DDBE...|2013-01-01 00:05:...|                163|                 156|\n",
      "|1E5F4C1CAE7AB3D06...|2013-01-01 00:26:...|                160|                 159|\n",
      "|C306CAC565429C128...|2013-01-01 00:28:...|                162|                 155|\n",
      "+--------------------+--------------------+-------------------+--------------------+\n",
      "\n"
     ]
    }
   ],
   "source": [
    "trips30.show()\n",
    "trips40.show()"
   ]
  },
  {
   "cell_type": "code",
   "execution_count": 10,
   "metadata": {
    "collapsed": false
   },
   "outputs": [
    {
     "data": {
      "text/plain": [
       "DataFrame[medallon: string, licencia: string, hora_subida: timestamp, hora_bajada: timestamp, duracion_viaje_seg: int, longitud_subida: decimal(18,14), latitud_subida: decimal(18,14), longitud_bajada: decimal(18,14), latitud_bajada: decimal(18,14), tipo_pago: string, tarifa: decimal(10,2), propina: decimal(10,2), cantidad_total: decimal(10,2), cuad_latitud_subida: bigint, cuad_longitud_subida: bigint, cuad_latitud_bajada: bigint, cuad_longitud_bajada: bigint]"
      ]
     },
     "execution_count": 10,
     "metadata": {},
     "output_type": "execute_result"
    }
   ],
   "source": [
    "tripsDown"
   ]
  },
  {
   "cell_type": "markdown",
   "metadata": {},
   "source": [
    "Vamos a coger ahora el último viaje iniciado"
   ]
  },
  {
   "cell_type": "code",
   "execution_count": 11,
   "metadata": {
    "collapsed": false
   },
   "outputs": [],
   "source": [
    "tripsUp = data.where(data.hora_subida <= tiempoFin).where(data.hora_subida > tiempo30)"
   ]
  },
  {
   "cell_type": "code",
   "execution_count": 12,
   "metadata": {
    "collapsed": true
   },
   "outputs": [],
   "source": [
    "tripUp = tripsUp.select(\"medallon\", \"hora_subida\").orderBy([\"medallon\",\"hora_subida\"], ascending=[True,False])"
   ]
  },
  {
   "cell_type": "code",
   "execution_count": 13,
   "metadata": {
    "collapsed": true
   },
   "outputs": [],
   "source": [
    "tripsUp30 = tripsUp.select(\"medallon\", \"hora_subida\").orderBy([\"medallon\",\"hora_subida\"], ascending=[True,False]) \\\n",
    "    .dropDuplicates(subset=[\"medallon\"]).orderBy([\"medallon\",\"hora_subida\"], ascending=[1,0])"
   ]
  },
  {
   "cell_type": "code",
   "execution_count": 14,
   "metadata": {
    "collapsed": false
   },
   "outputs": [
    {
     "name": "stdout",
     "output_type": "stream",
     "text": [
      "+--------------------+--------------------+\n",
      "|            medallon|         hora_subida|\n",
      "+--------------------+--------------------+\n",
      "|07290D3599E7A0D62...|2013-01-01 00:03:...|\n",
      "|07290D3599E7A0D62...|2013-01-01 00:01:...|\n",
      "|0EC22AAF491A8BD91...|2013-01-01 00:01:...|\n",
      "|1E5F4C1CAE7AB3D06...|2013-01-01 00:03:...|\n",
      "|C306CAC565429C128...|2013-01-01 00:05:...|\n",
      "|C306CAC565429C128...|2013-01-01 00:01:...|\n",
      "+--------------------+--------------------+\n",
      "\n",
      "+--------------------+--------------------+\n",
      "|            medallon|         hora_subida|\n",
      "+--------------------+--------------------+\n",
      "|07290D3599E7A0D62...|2013-01-01 00:03:...|\n",
      "|0EC22AAF491A8BD91...|2013-01-01 00:01:...|\n",
      "|1E5F4C1CAE7AB3D06...|2013-01-01 00:03:...|\n",
      "|C306CAC565429C128...|2013-01-01 00:05:...|\n",
      "+--------------------+--------------------+\n",
      "\n"
     ]
    }
   ],
   "source": [
    "tripUp.show()\n",
    "tripsUp30.show()"
   ]
  },
  {
   "cell_type": "code",
   "execution_count": 15,
   "metadata": {
    "collapsed": false
   },
   "outputs": [],
   "source": [
    "bueno30Down = tripsDown.select(\"medallon\", \"hora_bajada\", \"cuad_latitud_bajada\", \"cuad_longitud_bajada\") \\\n",
    "    .orderBy(\"hora_bajada\", ascending=False) \\\n",
    "    .dropDuplicates(subset=[\"medallon\"])\n",
    "bueno30Up = tripsUp.select(\"medallon\", \"hora_subida\").orderBy(\"hora_subida\", ascending=False) \\\n",
    "    .dropDuplicates(subset=[\"medallon\"]).withColumnRenamed(\"medallon\", \"taxi\")"
   ]
  },
  {
   "cell_type": "code",
   "execution_count": 16,
   "metadata": {
    "collapsed": false
   },
   "outputs": [
    {
     "name": "stdout",
     "output_type": "stream",
     "text": [
      "+--------------------+--------------------+-------------------+--------------------+\n",
      "|            medallon|         hora_bajada|cuad_latitud_bajada|cuad_longitud_bajada|\n",
      "+--------------------+--------------------+-------------------+--------------------+\n",
      "|C306CAC565429C128...|2013-01-01 00:28:...|                162|                 155|\n",
      "|07290D3599E7A0D62...|2013-01-01 00:02:...|                170|                 160|\n",
      "|1E5F4C1CAE7AB3D06...|2013-01-01 00:26:...|                160|                 159|\n",
      "|120E700FE35B2DDBE...|2013-01-01 00:05:...|                163|                 156|\n",
      "|0EC22AAF491A8BD91...|2013-01-01 00:25:...|                160|                 159|\n",
      "+--------------------+--------------------+-------------------+--------------------+\n",
      "\n",
      "+--------------------+--------------------+\n",
      "|                taxi|         hora_subida|\n",
      "+--------------------+--------------------+\n",
      "|C306CAC565429C128...|2013-01-01 00:05:...|\n",
      "|07290D3599E7A0D62...|2013-01-01 00:03:...|\n",
      "|1E5F4C1CAE7AB3D06...|2013-01-01 00:03:...|\n",
      "|0EC22AAF491A8BD91...|2013-01-01 00:01:...|\n",
      "+--------------------+--------------------+\n",
      "\n"
     ]
    }
   ],
   "source": [
    "bueno30Down.show()\n",
    "bueno30Up.show()"
   ]
  },
  {
   "cell_type": "code",
   "execution_count": 17,
   "metadata": {
    "collapsed": false
   },
   "outputs": [],
   "source": [
    "#spark falla join si el nombre de la columna es el mismo, renombrado a taxi\n",
    "joined = bueno30Down.join(bueno30Up, bueno30Down.medallon == bueno30Up.taxi, \"leftouter\") \\\n",
    "    .select(\"medallon\", \"hora_bajada\", \"hora_subida\", \"cuad_latitud_bajada\", \"cuad_longitud_bajada\")"
   ]
  },
  {
   "cell_type": "code",
   "execution_count": 18,
   "metadata": {
    "collapsed": false
   },
   "outputs": [
    {
     "name": "stdout",
     "output_type": "stream",
     "text": [
      "+--------------------+--------------------+--------------------+-------------------+--------------------+\n",
      "|            medallon|         hora_bajada|         hora_subida|cuad_latitud_bajada|cuad_longitud_bajada|\n",
      "+--------------------+--------------------+--------------------+-------------------+--------------------+\n",
      "|C306CAC565429C128...|2013-01-01 00:28:...|2013-01-01 00:05:...|                162|                 155|\n",
      "|07290D3599E7A0D62...|2013-01-01 00:02:...|2013-01-01 00:03:...|                170|                 160|\n",
      "|1E5F4C1CAE7AB3D06...|2013-01-01 00:26:...|2013-01-01 00:03:...|                160|                 159|\n",
      "|120E700FE35B2DDBE...|2013-01-01 00:05:...|                null|                163|                 156|\n",
      "|0EC22AAF491A8BD91...|2013-01-01 00:25:...|2013-01-01 00:01:...|                160|                 159|\n",
      "+--------------------+--------------------+--------------------+-------------------+--------------------+\n",
      "\n"
     ]
    }
   ],
   "source": [
    "joined.show()"
   ]
  },
  {
   "cell_type": "code",
   "execution_count": 19,
   "metadata": {
    "collapsed": false
   },
   "outputs": [],
   "source": [
    "pruebasubidas = joined.select(joined.medallon, joined.cuad_latitud_bajada, joined.cuad_longitud_bajada, \\\n",
    "    when(joined.hora_subida < tiempoFin, 1).otherwise(0).alias(\"taxi_en_uso\"), \\\n",
    "    when(joined.hora_subida > joined.hora_bajada, 1).otherwise(0).alias(\"taxi_ocupado\"))"
   ]
  },
  {
   "cell_type": "code",
   "execution_count": 25,
   "metadata": {
    "collapsed": false
   },
   "outputs": [],
   "source": [
    "estado_taxis = joined.select(joined.medallon, joined.cuad_latitud_bajada, joined.cuad_longitud_bajada, \\\n",
    "    when(joined.hora_subida > joined.hora_bajada, 1).otherwise(0).alias(\"taxi_ocupado\"))"
   ]
  },
  {
   "cell_type": "code",
   "execution_count": 26,
   "metadata": {
    "collapsed": false
   },
   "outputs": [
    {
     "name": "stdout",
     "output_type": "stream",
     "text": [
      "+--------------------+-------------------+--------------------+--------------------+------------+\n",
      "|            medallon|cuad_latitud_bajada|cuad_longitud_bajada|         hora_bajada|taxi_ocupado|\n",
      "+--------------------+-------------------+--------------------+--------------------+------------+\n",
      "|C306CAC565429C128...|                162|                 155|2013-01-01 00:28:...|           0|\n",
      "|07290D3599E7A0D62...|                170|                 160|2013-01-01 00:02:...|           1|\n",
      "|1E5F4C1CAE7AB3D06...|                160|                 159|2013-01-01 00:26:...|           0|\n",
      "|120E700FE35B2DDBE...|                163|                 156|2013-01-01 00:05:...|           0|\n",
      "|0EC22AAF491A8BD91...|                160|                 159|2013-01-01 00:25:...|           0|\n",
      "+--------------------+-------------------+--------------------+--------------------+------------+\n",
      "\n"
     ]
    }
   ],
   "source": [
    "estado_taxis.show()"
   ]
  },
  {
   "cell_type": "code",
   "execution_count": 27,
   "metadata": {
    "collapsed": false
   },
   "outputs": [],
   "source": [
    "taxis_filtrados = estado_taxis.filter(estado_taxis.taxi_ocupado == 0)"
   ]
  },
  {
   "cell_type": "code",
   "execution_count": 28,
   "metadata": {
    "collapsed": false
   },
   "outputs": [
    {
     "name": "stdout",
     "output_type": "stream",
     "text": [
      "+--------------------+-------------------+--------------------+-----------+------------+\n",
      "|            medallon|cuad_latitud_bajada|cuad_longitud_bajada|taxi_en_uso|taxi_ocupado|\n",
      "+--------------------+-------------------+--------------------+-----------+------------+\n",
      "|C306CAC565429C128...|                162|                 155|          1|           0|\n",
      "|07290D3599E7A0D62...|                170|                 160|          1|           1|\n",
      "|1E5F4C1CAE7AB3D06...|                160|                 159|          1|           0|\n",
      "|120E700FE35B2DDBE...|                163|                 156|          0|           0|\n",
      "|0EC22AAF491A8BD91...|                160|                 159|          1|           0|\n",
      "+--------------------+-------------------+--------------------+-----------+------------+\n",
      "\n",
      "+--------------------+-------------------+--------------------+--------------------+------------+\n",
      "|            medallon|cuad_latitud_bajada|cuad_longitud_bajada|         hora_bajada|taxi_ocupado|\n",
      "+--------------------+-------------------+--------------------+--------------------+------------+\n",
      "|C306CAC565429C128...|                162|                 155|2013-01-01 00:28:...|           0|\n",
      "|1E5F4C1CAE7AB3D06...|                160|                 159|2013-01-01 00:26:...|           0|\n",
      "|120E700FE35B2DDBE...|                163|                 156|2013-01-01 00:05:...|           0|\n",
      "|0EC22AAF491A8BD91...|                160|                 159|2013-01-01 00:25:...|           0|\n",
      "+--------------------+-------------------+--------------------+--------------------+------------+\n",
      "\n"
     ]
    }
   ],
   "source": [
    "pruebasubidas.show()\n",
    "taxis_filtrados.show()"
   ]
  },
  {
   "cell_type": "code",
   "execution_count": 29,
   "metadata": {
    "collapsed": false
   },
   "outputs": [],
   "source": [
    "taxis_libres = taxis_filtrados.groupBy(\"cuad_latitud_bajada\", \"cuad_longitud_bajada\").count() \\\n",
    "    .select(col(\"cuad_latitud_bajada\"), col(\"cuad_longitud_bajada\"), col(\"count\").alias(\"taxis_libres\"))"
   ]
  },
  {
   "cell_type": "code",
   "execution_count": 30,
   "metadata": {
    "collapsed": false
   },
   "outputs": [
    {
     "name": "stdout",
     "output_type": "stream",
     "text": [
      "+-------------------+--------------------+------------+\n",
      "|cuad_latitud_bajada|cuad_longitud_bajada|taxis_libres|\n",
      "+-------------------+--------------------+------------+\n",
      "|                163|                 156|           1|\n",
      "|                162|                 155|           1|\n",
      "|                160|                 159|           2|\n",
      "+-------------------+--------------------+------------+\n",
      "\n"
     ]
    }
   ],
   "source": [
    "taxis_libres.show()"
   ]
  },
  {
   "cell_type": "markdown",
   "metadata": {},
   "source": [
    "### Beneficio zona\n",
    "\n",
    "- Acotamos a viajes de los últimos 15 min\n",
    "- Agrupamos por zona de inicio del viaje\n",
    "- Calculamos la media de la tarifa y de la propina de cada zona\n",
    "- Sumamos cada media y obtenemos el beneficio medio de las zonas"
   ]
  },
  {
   "cell_type": "code",
   "execution_count": 113,
   "metadata": {
    "collapsed": false
   },
   "outputs": [],
   "source": [
    "trips15 = tripsDown.where(data.hora_bajada <= tiempoFin).where(data.hora_bajada > tiempo15)"
   ]
  },
  {
   "cell_type": "code",
   "execution_count": 126,
   "metadata": {
    "collapsed": false
   },
   "outputs": [],
   "source": [
    "beneficios = trips15.groupBy(\"cuad_latitud_subida\", \"cuad_longitud_subida\") \\\n",
    "    .avg(\"tarifa\", \"propina\") \\\n",
    "    .select(col(\"cuad_latitud_subida\"), col(\"cuad_longitud_subida\"), \\\n",
    "        (col(\"avg(tarifa)\") + col(\"avg(propina)\")).alias(\"beneficios\"))"
   ]
  },
  {
   "cell_type": "code",
   "execution_count": 127,
   "metadata": {
    "collapsed": false
   },
   "outputs": [
    {
     "name": "stdout",
     "output_type": "stream",
     "text": [
      "+-------------------+--------------------+----------+\n",
      "|cuad_latitud_subida|cuad_longitud_subida|beneficios|\n",
      "+-------------------+--------------------+----------+\n",
      "|                162|                 158|  4.000000|\n",
      "|                162|                 155|  2.500000|\n",
      "|                152|                 165|  4.500000|\n",
      "+-------------------+--------------------+----------+\n",
      "\n"
     ]
    }
   ],
   "source": [
    "beneficios.show()"
   ]
  },
  {
   "cell_type": "code",
   "execution_count": 128,
   "metadata": {
    "collapsed": false
   },
   "outputs": [
    {
     "name": "stdout",
     "output_type": "stream",
     "text": [
      "root\n",
      " |-- cuad_latitud_subida: long (nullable = true)\n",
      " |-- cuad_longitud_subida: long (nullable = true)\n",
      " |-- beneficios: decimal(15,6) (nullable = true)\n",
      "\n",
      "root\n",
      " |-- cuad_latitud_bajada: long (nullable = true)\n",
      " |-- cuad_longitud_bajada: long (nullable = true)\n",
      " |-- taxis_libres: long (nullable = false)\n",
      "\n"
     ]
    }
   ],
   "source": [
    "beneficios.printSchema()\n",
    "taxis_libres.printSchema()"
   ]
  },
  {
   "cell_type": "markdown",
   "metadata": {},
   "source": [
    "Aquí unimos ambas tablas, sumando 1 a los taxis libres para evitar la división entre 0 y sumar la repartición de beneficios que tendría que hacer el taxista con el compañero"
   ]
  },
  {
   "cell_type": "code",
   "execution_count": 137,
   "metadata": {
    "collapsed": true
   },
   "outputs": [],
   "source": [
    "condicion = [beneficios.cuad_latitud_subida == taxis_libres.cuad_latitud_bajada, \\\n",
    "             beneficios.cuad_longitud_subida == taxis_libres.cuad_longitud_bajada]\n",
    "profitable = beneficios.join(taxis_libres, condicion, \"leftouter\") \\\n",
    "    .select(col(\"cuad_latitud_subida\").alias(\"cuad_latitud\"), \\\n",
    "            col(\"cuad_longitud_subida\").alias(\"cuad_longitud\"), (col(\"beneficios\") / \\\n",
    "            when(taxis_libres.taxis_libres > 0, (taxis_libres.taxis_libres + 1)).otherwise(1)).alias(\"beneficio\")) \\\n",
    "    .orderBy(\"beneficio\", ascending=False)"
   ]
  },
  {
   "cell_type": "code",
   "execution_count": 138,
   "metadata": {
    "collapsed": false
   },
   "outputs": [
    {
     "name": "stdout",
     "output_type": "stream",
     "text": [
      "+------------+-------------+--------------------+\n",
      "|cuad_latitud|cuad_longitud|           beneficio|\n",
      "+------------+-------------+--------------------+\n",
      "|         152|          165|4.500000000000000...|\n",
      "|         162|          158|4.000000000000000...|\n",
      "|         162|          155|1.250000000000000...|\n",
      "+------------+-------------+--------------------+\n",
      "\n"
     ]
    }
   ],
   "source": [
    "profitable.show()"
   ]
  },
  {
   "cell_type": "code",
   "execution_count": 136,
   "metadata": {
    "collapsed": false
   },
   "outputs": [
    {
     "name": "stdout",
     "output_type": "stream",
     "text": [
      "root\n",
      " |-- cuad_latitud: long (nullable = true)\n",
      " |-- cuad_longitud: long (nullable = true)\n",
      " |-- Beneficio: decimal(36,27) (nullable = true)\n",
      "\n"
     ]
    }
   ],
   "source": [
    "profitable.printSchema()"
   ]
  },
  {
   "cell_type": "code",
   "execution_count": null,
   "metadata": {
    "collapsed": true
   },
   "outputs": [],
   "source": []
  }
 ],
 "metadata": {
  "anaconda-cloud": {},
  "kernelspec": {
   "display_name": "Python [conda env:taxinyc]",
   "language": "python",
   "name": "conda-env-taxinyc-py"
  },
  "language_info": {
   "codemirror_mode": {
    "name": "ipython",
    "version": 3
   },
   "file_extension": ".py",
   "mimetype": "text/x-python",
   "name": "python",
   "nbconvert_exporter": "python",
   "pygments_lexer": "ipython3",
   "version": "3.5.2"
  }
 },
 "nbformat": 4,
 "nbformat_minor": 1
}
