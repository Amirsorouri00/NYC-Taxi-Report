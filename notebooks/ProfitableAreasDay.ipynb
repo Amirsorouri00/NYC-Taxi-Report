{
 "cells": [
  {
   "cell_type": "code",
   "execution_count": 199,
   "metadata": {
    "collapsed": true
   },
   "outputs": [],
   "source": [
    "from pyspark.conf import SparkConf\n",
    "from pyspark.sql import SparkSession\n",
    "from pyspark.sql.functions import *\n",
    "from pyspark.sql.types import BooleanType, FloatType\n",
    "from datetime import *\n",
    "from settings import obtener_dia_semana, obtener_mes\n",
    "import time"
   ]
  },
  {
   "cell_type": "code",
   "execution_count": 200,
   "metadata": {
    "collapsed": false
   },
   "outputs": [
    {
     "data": {
      "text/plain": [
       "<pyspark.conf.SparkConf at 0x7fcb5c1a4630>"
      ]
     },
     "execution_count": 200,
     "metadata": {},
     "output_type": "execute_result"
    }
   ],
   "source": [
    "\"\"\" Configuramos Spark \"\"\"\n",
    "conf = SparkConf()\n",
    "conf.setAppName(\"ProcesamientoDatos\")\n",
    "conf.setMaster(\"local[4]\")"
   ]
  },
  {
   "cell_type": "code",
   "execution_count": 201,
   "metadata": {
    "collapsed": true
   },
   "outputs": [],
   "source": [
    "spark = SparkSession.builder.config(conf=conf).getOrCreate()"
   ]
  },
  {
   "cell_type": "code",
   "execution_count": 202,
   "metadata": {
    "collapsed": true
   },
   "outputs": [],
   "source": [
    "data = spark.read.format('parquet').load('grande.parquet/')"
   ]
  },
  {
   "cell_type": "code",
   "execution_count": 203,
   "metadata": {
    "collapsed": false
   },
   "outputs": [],
   "source": [
    "dia_elegido = obtener_dia_semana(\"Martes\")"
   ]
  },
  {
   "cell_type": "code",
   "execution_count": 204,
   "metadata": {
    "collapsed": false
   },
   "outputs": [],
   "source": [
    "hora_fin = datetime.strptime(\"2013-01 00:30\", \"%Y-%m %H:%M\")\n",
    "hora_30 = (hora_fin - timedelta(minutes=30))\n",
    "hora_15 = (hora_fin - timedelta(minutes=30))\n",
    "tiempo_fin = datetime.strptime(\"2013-01 00:30\", \"%Y-%m %H:%M\")\n",
    "\n",
    "\n",
    "def comparar_media_hora(hora):\n",
    "    \"\"\"\n",
    "        Metodo que filtra las horas de los registros para que concuerden\n",
    "        con las horas de busqueda deseada\n",
    "        :param hora: Timestamp completo\n",
    "        :return: True si las horas del timestamp estan entre las deseadas\n",
    "        False si lo contrario\n",
    "    \"\"\"\n",
    "    if hora.time() <= hora_fin.time() and hora.time() >= hora_30.time():\n",
    "        return True\n",
    "    return False\n",
    "\n",
    "\n",
    "def comparar_cuarto_hora(hora):\n",
    "    \"\"\"\n",
    "        Metodo que filtra las horas de los registros para que concuerden\n",
    "        con las horas de busqueda deseada\n",
    "        :param hora: Timestamp completo\n",
    "        :return: True si las horas del timestamp estan entre las deseadas\n",
    "        False si lo contrario\n",
    "    \"\"\"\n",
    "    if hora.time() <= hora_fin.time() and hora.time() >= hora_15.time():\n",
    "        return True\n",
    "    return False\n",
    "\n",
    "\n",
    "def relevancia(fecha):\n",
    "    \"\"\"\n",
    "        Metodo que da mas relevancia a los viajes mas cercanos a la\n",
    "        fecha de busqueda deseada.\n",
    "        Si la diferencia es menor a un mes de la fecha\n",
    "        dada los registros tienen más relevancia\n",
    "        :param fecha: Timestamp completo\n",
    "        :return: 2 si el viaje esta cerca de la fecha deseada, 1 si no\n",
    "    \"\"\"\n",
    "    diferencia = fecha - tiempo_fin\n",
    "    if diferencia < timedelta(days=7) and diferencia > timedelta(days=-7):\n",
    "        return 1.0\n",
    "    elif diferencia < timedelta(days=14) and diferencia > timedelta(days=-14):\n",
    "        return 0.75\n",
    "    elif diferencia < timedelta(days=21) and diferencia > timedelta(days=-21):\n",
    "        return 0.5\n",
    "    elif diferencia < timedelta(days=-28) and diferencia > timedelta(days=-28):\n",
    "        return 0.25\n",
    "    else:\n",
    "        return 0\n",
    "\n",
    "comprobar_media_hora = udf(comparar_media_hora, BooleanType())\n",
    "comprobar_cuarto_hora = udf(comparar_cuarto_hora, BooleanType())\n",
    "calcular_relevancia = udf(relevancia, FloatType())"
   ]
  },
  {
   "cell_type": "markdown",
   "metadata": {},
   "source": [
    "### Consulta 2: Zonas que más beneficios pueden procurar\n",
    "\n",
    "En esta segunda búsqueda lo que vamos a obtener es las 10 zonas que más beneficios pueden generar en el momento de la búsqueda (hora introducida). La cantidad de benficio de una zona consigue dividiendo el beneficio de una zona por la catidad de taxis vacios que hay en la zona.\n",
    "\n",
    "El beneficio de una zona es la media de la suma de la tarifa y la propina de los viajes que han acabado en los últimos 15 minutos y empezaron en esa zona. \n",
    "\n",
    "Por otro lado, para el número de taxis, se tendrán en cuenta el número de taxis vacíos en una zona durante los 30 minutos anteriores. \n",
    "\n",
    "    hora_subida, hora_bajada, area_mas_beneficiosa_1, ..., area_mas_beneficiosa_10, tiempo_ejecucion"
   ]
  },
  {
   "cell_type": "markdown",
   "metadata": {},
   "source": [
    "Vamos a empezar con los taxis vacíos en una zona.\n",
    "\n",
    "- Primero filtraremos los viajes acabados en la última media hora y nos quedamos con el último viaje acabado.\n",
    "- Ahora buscamos el último viaje empezado por los taxis en esa franja de tiempo"
   ]
  },
  {
   "cell_type": "markdown",
   "metadata": {},
   "source": [
    "Prueba de que nos quedamos con el último viaje acabado de cada taxi, eliminando si ha hecho más de un viaje."
   ]
  },
  {
   "cell_type": "code",
   "execution_count": 205,
   "metadata": {
    "collapsed": false
   },
   "outputs": [],
   "source": [
    "tripsDown = data.filter(data.dia_semana == dia_elegido) \\\n",
    "    .filter(comprobar_media_hora(data.hora_bajada))"
   ]
  },
  {
   "cell_type": "code",
   "execution_count": 206,
   "metadata": {
    "collapsed": true
   },
   "outputs": [],
   "source": [
    "tripsUp = data.filter(data.dia_semana == dia_elegido) \\\n",
    "    .filter(comprobar_media_hora(data.hora_subida))"
   ]
  },
  {
   "cell_type": "code",
   "execution_count": 207,
   "metadata": {
    "collapsed": false
   },
   "outputs": [],
   "source": [
    "bueno30Down = tripsDown.select(\"medallon\", \"hora_bajada\", \"cuad_latitud_bajada\", \"cuad_longitud_bajada\") \\\n",
    "    .orderBy(\"hora_bajada\", ascending=False) \\\n",
    "    .dropDuplicates(subset=[\"medallon\"])\n",
    "bueno30Up = tripsUp.select(\"medallon\", \"hora_subida\").orderBy(\"hora_subida\", ascending=False) \\\n",
    "    .dropDuplicates(subset=[\"medallon\"]).withColumnRenamed(\"medallon\", \"taxi\")"
   ]
  },
  {
   "cell_type": "code",
   "execution_count": 208,
   "metadata": {
    "collapsed": false
   },
   "outputs": [],
   "source": [
    "#spark falla join si el nombre de la columna es el mismo, renombrado a taxi\n",
    "joined = bueno30Down.join(bueno30Up, bueno30Down.medallon == bueno30Up.taxi, \"leftouter\") \\\n",
    "    .select(\"medallon\", \"hora_bajada\", \"hora_subida\", \"cuad_latitud_bajada\", \"cuad_longitud_bajada\")"
   ]
  },
  {
   "cell_type": "code",
   "execution_count": 209,
   "metadata": {
    "collapsed": true
   },
   "outputs": [],
   "source": [
    "estado_taxis = joined.select(joined.medallon, joined.cuad_latitud_bajada, \\\n",
    "    joined.cuad_longitud_bajada, joined.hora_bajada, \\\n",
    "    when(joined.hora_subida > joined.hora_bajada, 1).otherwise(0).alias(\"taxi_ocupado\"))"
   ]
  },
  {
   "cell_type": "markdown",
   "metadata": {},
   "source": [
    "Añadimos el factor de influencia"
   ]
  },
  {
   "cell_type": "code",
   "execution_count": 210,
   "metadata": {
    "collapsed": false
   },
   "outputs": [],
   "source": [
    "taxis_filtrados = estado_taxis.filter(estado_taxis.taxi_ocupado == 0) \\\n",
    "    .withColumn(\"influencia\", calcular_relevancia(estado_taxis.hora_bajada))"
   ]
  },
  {
   "cell_type": "code",
   "execution_count": 211,
   "metadata": {
    "collapsed": false
   },
   "outputs": [
    {
     "name": "stdout",
     "output_type": "stream",
     "text": [
      "+--------------------+-------------------+--------------------+--------------------+------------+----------+\n",
      "|            medallon|cuad_latitud_bajada|cuad_longitud_bajada|         hora_bajada|taxi_ocupado|influencia|\n",
      "+--------------------+-------------------+--------------------+--------------------+------------+----------+\n",
      "|D563F5CC514A87541...|                170|                 152|2013-01-16 00:15:...|           0|       0.5|\n",
      "|7550D0BD520A691EC...|                148|                 160|2013-01-16 00:13:...|           0|       0.5|\n",
      "|59DF6039EC312EE6D...|                164|                 157|2013-01-16 00:08:...|           0|       0.5|\n",
      "|BF46B95E44ED3BE1B...|                154|                 162|2013-01-16 00:07:...|           0|       0.5|\n",
      "|DA350783B6954CC67...|                162|                 158|2013-01-16 00:04:...|           0|       0.5|\n",
      "|73039762E0F4B253E...|                170|                 162|2013-01-16 00:02:...|           0|       0.5|\n",
      "|911B6F71706854496...|                168|                 163|2013-01-16 00:02:...|           0|       0.5|\n",
      "|963BEE5F306952D20...|                161|                 156|2013-01-16 00:01:...|           0|       0.5|\n",
      "|EB6F0753E865DA0AB...|                169|                 180|2013-01-16 00:01:...|           0|       0.5|\n",
      "|DDCBE3295F4678F61...|                163|                 158|2013-01-15 00:25:...|           0|      0.75|\n",
      "|4F4CA97166A04A455...|                165|                 155|2013-01-15 00:22:...|           0|      0.75|\n",
      "|618BB39CEEAE5E9A6...|                157|                 157|2013-01-15 00:20:...|           0|      0.75|\n",
      "|5CCB4924B158F945B...|                169|                 160|2013-01-15 00:08:...|           0|      0.75|\n",
      "|496036713FC662D71...|                146|                 161|2013-01-02 00:08:...|           0|       1.0|\n",
      "|EF882BDAF03D41517...|                181|                 161|2013-01-02 00:08:...|           0|       1.0|\n",
      "|753BC0484097BB236...|                167|                 157|2013-01-02 00:05:...|           0|       1.0|\n",
      "|B59C6B4E3CFAB9EDF...|                156|                 162|2013-01-02 00:03:...|           0|       1.0|\n",
      "|F0BC746C7DD8C0BC9...|                166|                 154|2013-01-02 00:02:...|           0|       1.0|\n",
      "|0F621E366CFE63044...|                164|                 157|2013-01-01 00:30:...|           0|       1.0|\n",
      "|A02946A94C960AF04...|                163|                 157|2013-01-01 00:28:...|           0|       1.0|\n",
      "+--------------------+-------------------+--------------------+--------------------+------------+----------+\n",
      "only showing top 20 rows\n",
      "\n"
     ]
    }
   ],
   "source": [
    "taxis_filtrados.show()"
   ]
  },
  {
   "cell_type": "code",
   "execution_count": 212,
   "metadata": {
    "collapsed": false
   },
   "outputs": [],
   "source": [
    "taxis_libres = taxis_filtrados.groupBy(\"cuad_latitud_bajada\", \"cuad_longitud_bajada\").count() \\\n",
    "    .select(col(\"cuad_latitud_bajada\"), col(\"cuad_longitud_bajada\"), col(\"count\").alias(\"taxis_libres\"))"
   ]
  },
  {
   "cell_type": "code",
   "execution_count": 213,
   "metadata": {
    "collapsed": false
   },
   "outputs": [],
   "source": [
    "influencia_taxis_libres = taxis_filtrados.groupBy(\"cuad_latitud_bajada\", \"cuad_longitud_bajada\") \\\n",
    "    .avg(\"influencia\") \\\n",
    "    .select(col(\"cuad_latitud_bajada\").alias(\"latitud\"), \\\n",
    "            col(\"cuad_longitud_bajada\").alias(\"longitud\"), \\\n",
    "            col(\"avg(influencia)\").alias(\"influencia\"))"
   ]
  },
  {
   "cell_type": "code",
   "execution_count": 214,
   "metadata": {
    "collapsed": false
   },
   "outputs": [
    {
     "name": "stdout",
     "output_type": "stream",
     "text": [
      "+-------------------+--------------------+------------+\n",
      "|cuad_latitud_bajada|cuad_longitud_bajada|taxis_libres|\n",
      "+-------------------+--------------------+------------+\n",
      "|                178|                 160|           3|\n",
      "|                171|                 152|          19|\n",
      "|                163|                 172|           3|\n",
      "|                151|                 163|           7|\n",
      "|                181|                 155|           2|\n",
      "|                172|                 166|           2|\n",
      "|                144|                 166|           1|\n",
      "|                158|                 188|           1|\n",
      "|                163|                 153|           8|\n",
      "|                165|                 157|          21|\n",
      "|                171|                 159|           8|\n",
      "|                179|                 179|           1|\n",
      "|                178|                 157|           1|\n",
      "|                156|                 167|           2|\n",
      "|                149|                 163|           1|\n",
      "|                168|                 214|           1|\n",
      "|                169|                 154|          26|\n",
      "|                200|                 161|           1|\n",
      "|                171|                 186|           1|\n",
      "|                136|                 166|           1|\n",
      "+-------------------+--------------------+------------+\n",
      "only showing top 20 rows\n",
      "\n",
      "+-------+--------+------------------+\n",
      "|latitud|longitud|        influencia|\n",
      "+-------+--------+------------------+\n",
      "|    178|     160|0.6666666666666666|\n",
      "|    171|     152|0.5657894736842105|\n",
      "|    163|     172|0.8333333333333334|\n",
      "|    151|     163|0.7142857142857143|\n",
      "|    181|     155|              0.75|\n",
      "|    172|     166|              0.75|\n",
      "|    144|     166|               1.0|\n",
      "|    158|     188|               1.0|\n",
      "|    163|     153|            0.6875|\n",
      "|    165|     157|0.7142857142857143|\n",
      "|    171|     159|            0.6875|\n",
      "|    179|     179|               0.5|\n",
      "|    178|     157|               0.5|\n",
      "|    156|     167|               0.5|\n",
      "|    149|     163|               0.5|\n",
      "|    168|     214|               0.5|\n",
      "|    169|     154|0.6538461538461539|\n",
      "|    200|     161|               0.5|\n",
      "|    171|     186|              0.75|\n",
      "|    136|     166|               0.5|\n",
      "+-------+--------+------------------+\n",
      "only showing top 20 rows\n",
      "\n"
     ]
    }
   ],
   "source": [
    "taxis_libres.show()\n",
    "influencia_taxis_libres.show()"
   ]
  },
  {
   "cell_type": "code",
   "execution_count": 215,
   "metadata": {
    "collapsed": false
   },
   "outputs": [],
   "source": [
    "condition = [taxis_libres.cuad_latitud_bajada == influencia_taxis_libres.latitud, \\\n",
    "             taxis_libres.cuad_longitud_bajada == influencia_taxis_libres.longitud]"
   ]
  },
  {
   "cell_type": "code",
   "execution_count": 229,
   "metadata": {
    "collapsed": false
   },
   "outputs": [],
   "source": [
    "taxis_libres_prop = taxis_libres.join(influencia_taxis_libres, condition) \\\n",
    "    .select(col(\"cuad_latitud_bajada\"), col(\"cuad_longitud_bajada\"), \\\n",
    "            round(col(\"taxis_libres\") * col(\"influencia\")).alias(\"proporcion_taxis_libres\"))"
   ]
  },
  {
   "cell_type": "code",
   "execution_count": 227,
   "metadata": {
    "collapsed": false
   },
   "outputs": [
    {
     "name": "stdout",
     "output_type": "stream",
     "text": [
      "+-------------------+--------------------+-----------------------+\n",
      "|cuad_latitud_bajada|cuad_longitud_bajada|proporcion_taxis_libres|\n",
      "+-------------------+--------------------+-----------------------+\n",
      "|                178|                 160|                    2.0|\n",
      "|                151|                 163|                    5.0|\n",
      "|                163|                 172|                    3.0|\n",
      "|                171|                 152|                   11.0|\n",
      "|                144|                 166|                    1.0|\n",
      "|                172|                 166|                    2.0|\n",
      "|                181|                 155|                    2.0|\n",
      "|                158|                 188|                    1.0|\n",
      "|                163|                 153|                    6.0|\n",
      "|                165|                 157|                   15.0|\n",
      "|                171|                 159|                    6.0|\n",
      "|                179|                 179|                    1.0|\n",
      "|                156|                 167|                    1.0|\n",
      "|                178|                 157|                    1.0|\n",
      "|                149|                 163|                    1.0|\n",
      "|                168|                 214|                    1.0|\n",
      "|                136|                 166|                    1.0|\n",
      "|                169|                 154|                   17.0|\n",
      "|                171|                 186|                    1.0|\n",
      "|                200|                 161|                    1.0|\n",
      "+-------------------+--------------------+-----------------------+\n",
      "only showing top 20 rows\n",
      "\n"
     ]
    }
   ],
   "source": [
    "taxis_libres_prop.show()"
   ]
  },
  {
   "cell_type": "markdown",
   "metadata": {},
   "source": [
    "### Beneficio zona\n",
    "\n",
    "- Acotamos a viajes de los últimos 15 min\n",
    "- Agrupamos por zona de inicio del viaje\n",
    "- Calculamos la media de la tarifa y de la propina de cada zona\n",
    "- Sumamos cada media y obtenemos el beneficio medio de las zonas"
   ]
  },
  {
   "cell_type": "code",
   "execution_count": 218,
   "metadata": {
    "collapsed": false
   },
   "outputs": [],
   "source": [
    "trips15 = tripsDown.filter(comprobar_cuarto_hora(data.hora_bajada)) \\\n",
    "    .withColumn(\"influencia\", calcular_relevancia(estado_taxis.hora_bajada))"
   ]
  },
  {
   "cell_type": "code",
   "execution_count": 219,
   "metadata": {
    "collapsed": false
   },
   "outputs": [],
   "source": [
    "beneficios_prueba = trips15.groupBy(\"cuad_latitud_subida\", \"cuad_longitud_subida\") \\\n",
    "    .avg(\"tarifa\", \"propina\", \"influencia\") \\\n",
    "    .select(col(\"cuad_latitud_subida\"), col(\"cuad_longitud_subida\"), \\\n",
    "            (col(\"avg(tarifa)\") + col(\"avg(propina)\")).alias(\"beneficios\"), \\\n",
    "            col(\"avg(influencia)\").alias(\"influencia\"))"
   ]
  },
  {
   "cell_type": "code",
   "execution_count": 231,
   "metadata": {
    "collapsed": true
   },
   "outputs": [],
   "source": [
    "beneficios = trips15.groupBy(\"cuad_latitud_subida\", \"cuad_longitud_subida\") \\\n",
    "    .avg(\"tarifa\", \"propina\", \"influencia\") \\\n",
    "    .select(col(\"cuad_latitud_subida\"), col(\"cuad_longitud_subida\"), \\\n",
    "        ((col(\"avg(tarifa)\") + col(\"avg(propina)\")) * col(\"avg(influencia)\")).alias(\"beneficios\"))"
   ]
  },
  {
   "cell_type": "code",
   "execution_count": 232,
   "metadata": {
    "collapsed": false
   },
   "outputs": [
    {
     "name": "stdout",
     "output_type": "stream",
     "text": [
      "+-------------------+--------------------+------------------+\n",
      "|cuad_latitud_subida|cuad_longitud_subida|        beneficios|\n",
      "+-------------------+--------------------+------------------+\n",
      "|                151|                 163|            14.687|\n",
      "|                171|                 152|      14.374140625|\n",
      "|                163|                 172|               5.0|\n",
      "|                172|                 166|         12.833333|\n",
      "|                161|                 162|               9.5|\n",
      "|                153|                 161| 7.135714285714286|\n",
      "|                150|                 165|              19.5|\n",
      "|                165|                 157| 9.376285232558141|\n",
      "|                163|                 153| 9.506316685185185|\n",
      "|                171|                 159|              10.0|\n",
      "|                178|                 157|          10.51875|\n",
      "|                149|                 163|             15.87|\n",
      "|                169|                 154| 9.957118755434783|\n",
      "|                171|                 164|               7.3|\n",
      "|                177|                 158|         13.546875|\n",
      "|                161|                 160|7.7744821153846155|\n",
      "|                186|                 189|        48.8588065|\n",
      "|                162|                 162|              21.1|\n",
      "|                170|                 177|              6.75|\n",
      "|                153|                 158| 8.959148607954546|\n",
      "+-------------------+--------------------+------------------+\n",
      "only showing top 20 rows\n",
      "\n"
     ]
    }
   ],
   "source": [
    "beneficios.show()"
   ]
  },
  {
   "cell_type": "code",
   "execution_count": 225,
   "metadata": {
    "collapsed": false
   },
   "outputs": [
    {
     "name": "stdout",
     "output_type": "stream",
     "text": [
      "+-------------------+--------------------+----------+------------------+\n",
      "|cuad_latitud_subida|cuad_longitud_subida|beneficios|        influencia|\n",
      "+-------------------+--------------------+----------+------------------+\n",
      "|                151|                 163| 15.460000|              0.95|\n",
      "|                171|                 152| 17.691250|            0.8125|\n",
      "|                163|                 172| 10.000000|               0.5|\n",
      "|                172|                 166| 12.833333|               1.0|\n",
      "|                161|                 162|  9.500000|               1.0|\n",
      "|                153|                 161|  7.400000|0.9642857142857143|\n",
      "|                150|                 165| 19.500000|               1.0|\n",
      "|                165|                 157| 10.404652|0.9011627906976745|\n",
      "|                163|                 153| 11.282222|0.8425925925925926|\n",
      "|                171|                 159| 10.000000|               1.0|\n",
      "|                178|                 157| 14.025000|              0.75|\n",
      "|                149|                 163| 15.870000|               1.0|\n",
      "|                169|                 154| 12.811957|0.7771739130434783|\n",
      "|                171|                 164|  7.300000|               1.0|\n",
      "|                177|                 158| 18.062500|              0.75|\n",
      "|                161|                 160|  8.983846|0.8653846153846154|\n",
      "|                186|                 189| 55.838636|             0.875|\n",
      "|                162|                 162| 21.100000|               1.0|\n",
      "|                170|                 177| 13.500000|               0.5|\n",
      "|                153|                 158|  9.917045|0.9034090909090909|\n",
      "+-------------------+--------------------+----------+------------------+\n",
      "only showing top 20 rows\n",
      "\n",
      "+-------------------+--------------------+----------+\n",
      "|cuad_latitud_subida|cuad_longitud_subida|beneficios|\n",
      "+-------------------+--------------------+----------+\n",
      "|                151|                 163|        15|\n",
      "|                171|                 152|        15|\n",
      "|                163|                 172|         5|\n",
      "|                172|                 166|        13|\n",
      "|                161|                 162|        10|\n",
      "|                153|                 161|         8|\n",
      "|                150|                 165|        20|\n",
      "|                165|                 157|        10|\n",
      "|                163|                 153|        10|\n",
      "|                171|                 159|        10|\n",
      "|                178|                 157|        11|\n",
      "|                149|                 163|        16|\n",
      "|                169|                 154|        10|\n",
      "|                171|                 164|         8|\n",
      "|                177|                 158|        14|\n",
      "|                161|                 160|         8|\n",
      "|                186|                 189|        49|\n",
      "|                162|                 162|        22|\n",
      "|                170|                 177|         7|\n",
      "|                153|                 158|         9|\n",
      "+-------------------+--------------------+----------+\n",
      "only showing top 20 rows\n",
      "\n"
     ]
    }
   ],
   "source": [
    "beneficios_prueba.show()"
   ]
  },
  {
   "cell_type": "markdown",
   "metadata": {},
   "source": [
    "Aquí unimos ambas tablas, sumando 1 a los taxis libres para evitar la división entre 0 y sumar la repartición de beneficios que tendría que hacer el taxista con el compañero"
   ]
  },
  {
   "cell_type": "code",
   "execution_count": 236,
   "metadata": {
    "collapsed": false
   },
   "outputs": [],
   "source": [
    "condicion = [beneficios.cuad_latitud_subida == taxis_libres.cuad_latitud_bajada, \\\n",
    "             beneficios.cuad_longitud_subida == taxis_libres.cuad_longitud_bajada]\n",
    "profitable = beneficios.join(taxis_libres_prop, condicion, \"leftouter\") \\\n",
    "    .select(col(\"cuad_latitud_subida\").alias(\"cuad_latitud\"), \\\n",
    "            col(\"cuad_longitud_subida\").alias(\"cuad_longitud\"), \\\n",
    "            (col(\"beneficios\") / col(\"proporcion_taxis_libres\")).alias(\"beneficio\")) \\\n",
    "    .orderBy(\"beneficio\", ascending=False)"
   ]
  },
  {
   "cell_type": "code",
   "execution_count": 237,
   "metadata": {
    "collapsed": false
   },
   "outputs": [
    {
     "name": "stdout",
     "output_type": "stream",
     "text": [
      "+------------+-------------+------------------+\n",
      "|cuad_latitud|cuad_longitud|         beneficio|\n",
      "+------------+-------------+------------------+\n",
      "|         186|          189|        48.8588065|\n",
      "|         165|          174|              43.3|\n",
      "|         185|          190|37.285379999999996|\n",
      "|         168|          178|              28.5|\n",
      "|         164|          162|          26.46875|\n",
      "|         170|          157|              21.0|\n",
      "|         148|          161|            20.324|\n",
      "|         157|          168|             19.75|\n",
      "|         168|          161|             19.75|\n",
      "|         147|          164|             19.25|\n",
      "|         171|          154|              17.0|\n",
      "|         180|          155|              17.0|\n",
      "|         145|          162|             16.75|\n",
      "|         149|          163|             15.87|\n",
      "|         162|          169|              15.5|\n",
      "|         158|          174|              14.0|\n",
      "|         187|          159|          13.34375|\n",
      "|         176|          158|              12.0|\n",
      "|         168|          164|11.962499999999999|\n",
      "|         166|          176|              11.5|\n",
      "+------------+-------------+------------------+\n",
      "only showing top 20 rows\n",
      "\n"
     ]
    }
   ],
   "source": [
    "profitable.show()"
   ]
  },
  {
   "cell_type": "code",
   "execution_count": null,
   "metadata": {
    "collapsed": true
   },
   "outputs": [],
   "source": []
  }
 ],
 "metadata": {
  "anaconda-cloud": {},
  "kernelspec": {
   "display_name": "Python [conda env:taxinyc]",
   "language": "python",
   "name": "conda-env-taxinyc-py"
  },
  "language_info": {
   "codemirror_mode": {
    "name": "ipython",
    "version": 3
   },
   "file_extension": ".py",
   "mimetype": "text/x-python",
   "name": "python",
   "nbconvert_exporter": "python",
   "pygments_lexer": "ipython3",
   "version": "3.5.2"
  }
 },
 "nbformat": 4,
 "nbformat_minor": 1
}
