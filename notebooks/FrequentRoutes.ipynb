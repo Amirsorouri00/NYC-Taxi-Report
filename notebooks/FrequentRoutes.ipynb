{
 "cells": [
  {
   "cell_type": "code",
   "execution_count": 1,
   "metadata": {
    "collapsed": true
   },
   "outputs": [],
   "source": [
    "from pyspark.conf import SparkConf\n",
    "from pyspark.sql import SparkSession\n",
    "from pyspark.sql.functions import *\n",
    "from pyspark.sql.types import BooleanType, IntegerType\n",
    "from datetime import *\n",
    "from settings import obtener_timestamp, obtener_dia_semana"
   ]
  },
  {
   "cell_type": "code",
   "execution_count": 2,
   "metadata": {
    "collapsed": false
   },
   "outputs": [
    {
     "data": {
      "text/plain": [
       "<pyspark.conf.SparkConf at 0x7f7c15eb75f8>"
      ]
     },
     "execution_count": 2,
     "metadata": {},
     "output_type": "execute_result"
    }
   ],
   "source": [
    "\"\"\" Configuramos Spark \"\"\"\n",
    "conf = SparkConf()\n",
    "conf.setAppName(\"ProcesamientoDatos\")\n",
    "conf.setMaster(\"local[*]\")"
   ]
  },
  {
   "cell_type": "code",
   "execution_count": 3,
   "metadata": {
    "collapsed": true
   },
   "outputs": [],
   "source": [
    "spark = SparkSession.builder.config(conf=conf).getOrCreate()"
   ]
  },
  {
   "cell_type": "markdown",
   "metadata": {},
   "source": [
    "Leemos los datos procesados del archivo guardado"
   ]
  },
  {
   "cell_type": "code",
   "execution_count": 4,
   "metadata": {
    "collapsed": false
   },
   "outputs": [],
   "source": [
    "data = spark.read.format('parquet').load('./../datos/processed/full.parquet/')"
   ]
  },
  {
   "cell_type": "code",
   "execution_count": 5,
   "metadata": {
    "collapsed": false
   },
   "outputs": [
    {
     "name": "stdout",
     "output_type": "stream",
     "text": [
      "root\n",
      " |-- medallon: string (nullable = true)\n",
      " |-- licencia: string (nullable = true)\n",
      " |-- hora_subida: timestamp (nullable = true)\n",
      " |-- hora_bajada: timestamp (nullable = true)\n",
      " |-- duracion_viaje_seg: integer (nullable = true)\n",
      " |-- longitud_subida: decimal(18,14) (nullable = true)\n",
      " |-- latitud_subida: decimal(18,14) (nullable = true)\n",
      " |-- longitud_bajada: decimal(18,14) (nullable = true)\n",
      " |-- latitud_bajada: decimal(18,14) (nullable = true)\n",
      " |-- tipo_pago: string (nullable = true)\n",
      " |-- tarifa: decimal(10,2) (nullable = true)\n",
      " |-- propina: decimal(10,2) (nullable = true)\n",
      " |-- cantidad_total: decimal(10,2) (nullable = true)\n",
      " |-- cuad_latitud_subida: long (nullable = true)\n",
      " |-- cuad_longitud_subida: long (nullable = true)\n",
      " |-- cuad_latitud_bajada: long (nullable = true)\n",
      " |-- cuad_longitud_bajada: long (nullable = true)\n",
      " |-- dia_semana: integer (nullable = true)\n",
      "\n"
     ]
    }
   ],
   "source": [
    "data.printSchema()"
   ]
  },
  {
   "cell_type": "code",
   "execution_count": 6,
   "metadata": {
    "collapsed": false
   },
   "outputs": [],
   "source": [
    "tiempo_fin = obtener_timestamp(\"2013-01-01\", \"01:30\")\n",
    "tiempo_inicio = tiempo_fin - timedelta(minutes=30)"
   ]
  },
  {
   "cell_type": "markdown",
   "metadata": {
    "collapsed": true
   },
   "source": [
    "### Consulta 1: Rutas frequentes\n",
    "En esta primera búsqueda lo que vamos a obtener es las 10 rutas más frecuentes durante los 30 minutos anteriores. Estas rutas contarán únicamente si el viaje ha sido completado, es decir, si el usuario se ha bajado del taxi. La salida de la consulta será la siguiente:\n",
    "\n",
    "    hora_subida, hora_bajada, celda_subida_1, celda_bajada_1, ..., celda_subida_10, celda_bajada_10, tiempo_ejecucion"
   ]
  },
  {
   "cell_type": "code",
   "execution_count": 7,
   "metadata": {
    "collapsed": false
   },
   "outputs": [],
   "source": [
    "mejor = data.filter(data.hora_subida <= tiempo_fin) \\\n",
    "    .filter(data.hora_subida >= tiempo_inicio) \\\n",
    "    .filter(data.hora_bajada <= tiempo_fin) \\\n",
    "    .filter(data.hora_bajada >= tiempo_inicio) \\\n",
    "    .groupBy(\"cuad_longitud_subida\", \"cuad_latitud_subida\", \"cuad_longitud_bajada\", \"cuad_latitud_bajada\") \\\n",
    "    .count().orderBy(desc(\"count\"))"
   ]
  },
  {
   "cell_type": "code",
   "execution_count": 8,
   "metadata": {
    "collapsed": false
   },
   "outputs": [],
   "source": [
    "mejor = mejor.take(10)"
   ]
  },
  {
   "cell_type": "code",
   "execution_count": 9,
   "metadata": {
    "collapsed": false
   },
   "outputs": [
    {
     "data": {
      "text/plain": [
       "[Row(cuad_longitud_subida=159, cuad_latitud_subida=161, cuad_longitud_bajada=158, cuad_latitud_bajada=163, count=6),\n",
       " Row(cuad_longitud_subida=157, cuad_latitud_subida=156, cuad_longitud_bajada=158, cuad_latitud_bajada=154, count=6),\n",
       " Row(cuad_longitud_subida=157, cuad_latitud_subida=162, cuad_longitud_bajada=159, cuad_latitud_bajada=161, count=5),\n",
       " Row(cuad_longitud_subida=156, cuad_latitud_subida=166, cuad_longitud_bajada=157, cuad_latitud_bajada=164, count=5),\n",
       " Row(cuad_longitud_subida=158, cuad_latitud_subida=162, cuad_longitud_bajada=157, cuad_latitud_bajada=164, count=5),\n",
       " Row(cuad_longitud_subida=159, cuad_latitud_subida=161, cuad_longitud_bajada=161, cuad_latitud_bajada=157, count=5),\n",
       " Row(cuad_longitud_subida=161, cuad_latitud_subida=158, cuad_longitud_bajada=162, cuad_latitud_bajada=156, count=5),\n",
       " Row(cuad_longitud_subida=162, cuad_latitud_subida=156, cuad_longitud_bajada=159, cuad_latitud_bajada=161, count=5),\n",
       " Row(cuad_longitud_subida=158, cuad_latitud_subida=163, cuad_longitud_bajada=156, cuad_latitud_bajada=167, count=4),\n",
       " Row(cuad_longitud_subida=161, cuad_latitud_subida=157, cuad_longitud_bajada=157, cuad_latitud_bajada=163, count=4)]"
      ]
     },
     "execution_count": 9,
     "metadata": {},
     "output_type": "execute_result"
    }
   ],
   "source": [
    "mejor"
   ]
  },
  {
   "cell_type": "markdown",
   "metadata": {},
   "source": [
    "### Consulta 1B: Rutas frequentes\n",
    "En esta primera búsqueda lo que vamos a obtener es las 10 rutas más frecuentes en los dias de una semana durante los 30 minutos anteriores a una fecha dada. Estas rutas contarán únicamente si el viaje ha sido completado, es decir, si el usuario se ha bajado del taxi. La salida de la consulta será la siguiente:\n",
    "\n",
    "    hora_subida, hora_bajada, celda_subida_1, celda_bajada_1, ..., celda_subida_10, celda_bajada_10, tiempo_ejecucion"
   ]
  },
  {
   "cell_type": "code",
   "execution_count": 10,
   "metadata": {
    "collapsed": false
   },
   "outputs": [],
   "source": [
    "dia_elegido = obtener_dia_semana(\"Lunes\")"
   ]
  },
  {
   "cell_type": "markdown",
   "metadata": {},
   "source": [
    "Debido a diversas limitaciones de spark utilizamos variables globales para hacer las limitaciones de tiempo"
   ]
  },
  {
   "cell_type": "code",
   "execution_count": 3,
   "metadata": {
    "collapsed": false
   },
   "outputs": [],
   "source": [
    "hora_fin = datetime.strptime(\"00:30:00\", \"%H:%M:%S\")\n",
    "hora_inicio = (hora_fin - timedelta(minutes=30))\n",
    "\n",
    "\n",
    "def comparar_hora(hora):\n",
    "    \"\"\"\n",
    "        Metodo que filtra las horas de los registros para que concuerden\n",
    "        con las horas de busqueda deseada\n",
    "        :param hora: Timestamp completo\n",
    "        :return: True si las horas del timestamp estan entre las deseadas\n",
    "        False si lo contrario\n",
    "    \"\"\"\n",
    "    if hora.time() <= hora_fin.time() and hora.time() >= hora_inicio.time():\n",
    "        return True\n",
    "    return False\n",
    "\n",
    "\n",
    "def relevancia(fecha):\n",
    "    \"\"\"\n",
    "        Metodo que da mas relevancia a los viajes mas cercanos a la\n",
    "        fecha de busqueda deseada.\n",
    "        Si la diferencia es menor a un mes de la fecha\n",
    "        dada los registros tienen más relevancia\n",
    "        :param fecha: Timestamp completo\n",
    "        :return: 2 si el viaje esta cerca de la fecha deseada, 1 si no\n",
    "    \"\"\"\n",
    "    diferencia = fecha - tiempo_fin\n",
    "    if diferencia < timedelta(days=30) and diferencia > timedelta(days=-30):\n",
    "        return 2\n",
    "    else:\n",
    "        return 1\n",
    "\n",
    "comprobar_hora = udf(comparar_hora, BooleanType())\n",
    "calcular_relevancia = udf(relevancia, IntegerType())"
   ]
  },
  {
   "cell_type": "code",
   "execution_count": 57,
   "metadata": {
    "collapsed": false
   },
   "outputs": [],
   "source": [
    "filtered =  data.filter(data.dia_semana == dia_elegido) \\\n",
    "    .filter(comprobar_hora(data.hora_subida)) \\\n",
    "    .filter(comprobar_hora(data.hora_bajada)) \\\n",
    "    .withColumn('relevancia', calcular_relevancia(data.hora_subida))"
   ]
  },
  {
   "cell_type": "code",
   "execution_count": 58,
   "metadata": {
    "collapsed": false
   },
   "outputs": [],
   "source": [
    "frequent = filtered.groupBy(\"cuad_longitud_subida\", \"cuad_latitud_subida\", \\\n",
    "                            \"cuad_longitud_bajada\", \"cuad_latitud_bajada\") \\\n",
    "    .sum(\"relevancia\") \\\n",
    "    .select(col(\"cuad_longitud_subida\"), col(\"cuad_latitud_subida\"), \\\n",
    "            col(\"cuad_longitud_bajada\"), col(\"cuad_latitud_bajada\"), \\\n",
    "            col(\"sum(relevancia)\").alias(\"frecuencia\")) \\\n",
    "    .orderBy(\"frecuencia\", ascending=False)"
   ]
  },
  {
   "cell_type": "code",
   "execution_count": 60,
   "metadata": {
    "collapsed": false,
    "scrolled": false
   },
   "outputs": [
    {
     "name": "stdout",
     "output_type": "stream",
     "text": [
      "+--------------------+--------------------+--------------------+--------------------+------------------+------------------+-----------------+------------------+-----------------+---------+------+-------+--------------+-------------------+--------------------+-------------------+--------------------+----------+----------+\n",
      "|            medallon|            licencia|         hora_subida|         hora_bajada|duracion_viaje_seg|   longitud_subida|   latitud_subida|   longitud_bajada|   latitud_bajada|tipo_pago|tarifa|propina|cantidad_total|cuad_latitud_subida|cuad_longitud_subida|cuad_latitud_bajada|cuad_longitud_bajada|dia_semana|relevancia|\n",
      "+--------------------+--------------------+--------------------+--------------------+------------------+------------------+-----------------+------------------+-----------------+---------+------+-------+--------------+-------------------+--------------------+-------------------+--------------------+----------+----------+\n",
      "|254B4453B29C73B8E...|C8908B05D91F627DB...|2013-01-14 00:00:...|2013-01-14 00:02:...|               120|-73.95679500000000|40.76653700000000|-73.94838000000000|40.77810700000000|      CRD|  4.50|   1.00|          6.50|                159|                 161|                156|                 162|         0|         2|\n",
      "|7AC504272B66F74A3...|1C8E7D9D7D75A1FEF...|2013-01-14 00:00:...|2013-01-14 00:02:...|               120|-73.95280500000000|40.78056300000000|-73.94898200000000|40.78586600000000|      CRD|  4.00|   0.90|          5.90|                156|                 162|                154|                 162|         0|         2|\n",
      "|7AD442D7CFA8B1D9F...|AA36F9FCB7E671751...|2013-01-14 00:00:...|2013-01-14 00:02:...|               120|-73.98033900000000|40.73438600000000|-73.97412900000000|40.74295400000000|      CSH|  4.50|   0.00|          5.50|                166|                 157|                164|                 158|         0|         2|\n",
      "|7EA8306E1A78955BC...|AE67C966670F9D019...|2013-01-14 00:00:...|2013-01-14 00:02:...|               120|-73.97847000000000|40.75248300000000|-73.98657200000000|40.75589800000000|      CSH|  4.50|   0.00|          5.50|                162|                 157|                161|                 156|         0|         2|\n",
      "|A2F52BBDD3B76EACD...|1273F7D6D1EF7CD66...|2013-01-14 00:00:...|2013-01-14 00:02:...|               120|-73.98648800000000|40.75673300000000|-73.99342300000000|40.75714100000000|      CSH|  4.00|   0.00|          5.00|                161|                 156|                161|                 155|         0|         2|\n",
      "|EFA4C7D3C558591F8...|D5195813586DB8BC7...|2013-01-14 00:01:...|2013-01-14 00:02:...|                60|-73.99451400000000|40.73384100000000|-74.00157900000000|40.73599600000000|      CSH|  3.50|   0.00|          4.50|                166|                 155|                166|                 153|         0|         2|\n",
      "|00E67F2CAC914F384...|D33D2B6EB5B863CF1...|2013-01-14 00:00:...|2013-01-14 00:03:...|               180|-73.99739100000000|40.74170700000000|-73.99214200000000|40.75416200000000|      CSH|  5.50|   0.00|          6.50|                164|                 154|                161|                 155|         0|         2|\n",
      "|594B22566326444C7...|441D5B00E6EC31C79...|2013-01-14 00:00:...|2013-01-14 00:03:...|               180|-73.98612200000000|40.75693100000000|-73.99845900000000|40.74696400000000|      CSH|  5.50|   0.00|          6.50|                161|                 156|                163|                 154|         0|         2|\n",
      "|696321779D687411F...|82C3589BD5DA6C0A5...|2013-01-14 00:00:...|2013-01-14 00:03:...|               180|-73.99675800000000|40.74267200000000|-74.00427200000000|40.74246200000000|      CRD|  4.50|   1.00|          6.50|                164|                 154|                164|                 153|         0|         2|\n",
      "|6F1A5CBD608252B63...|BF04D4B14F4DD64D4...|2013-01-14 00:00:...|2013-01-14 00:03:...|               180|-73.96583600000000|40.76243200000000|-73.95417800000000|40.77851900000000|      CRD|  6.00|   1.30|          8.30|                160|                 159|                156|                 161|         0|         2|\n",
      "|AC863FB477098FC91...|A9A6D8686CFA967F0...|2013-01-14 00:00:...|2013-01-14 00:03:...|               180|-73.97995800000000|40.72684100000000|-73.98667900000000|40.73400900000000|      CSH|  5.00|   0.00|          6.00|                168|                 157|                166|                 156|         0|         2|\n",
      "|E9810A32F0E149A78...|AD9E57DE83060B324...|2013-01-14 00:00:...|2013-01-14 00:03:...|               180|-73.96115100000000|40.76499600000000|-73.96403500000000|40.76110800000000|      CRD|  4.50|   0.00|          5.50|                159|                 160|                160|                 160|         0|         2|\n",
      "|04BC6422B122AEA5B...|79B7B10BB53D873EE...|2013-01-14 00:01:...|2013-01-14 00:04:...|               180|-73.98499300000000|40.72810400000000|-73.97256500000000|40.74525100000000|      CSH|  6.00|   0.00|          7.00|                167|                 156|                163|                 158|         0|         2|\n",
      "|1414004DB686783EA...|BE9733988E81A5563...|2013-01-14 00:03:...|2013-01-14 00:04:...|                60|-73.97550200000000|40.78715500000000|-73.97018400000000|40.79433100000000|      CRD|  4.00|   0.90|          5.90|                154|                 158|                153|                 159|         0|         2|\n",
      "|4C1558FE4FD7586E2...|066F4ED310B3E439F...|2013-01-14 00:01:...|2013-01-14 00:04:...|               180|-73.98294100000000|40.76148200000000|-73.98696100000000|40.75113300000000|      CRD|  5.00|   1.65|          7.65|                160|                 156|                162|                 156|         0|         2|\n",
      "|4D6497519929FAAD5...|C48B2239E78B31E10...|2013-01-14 00:01:...|2013-01-14 00:04:...|               180|-73.96286800000000|40.75841900000000|-73.95571100000000|40.76441600000000|      CSH|  4.50|   0.00|          5.50|                161|                 160|                159|                 161|         0|         2|\n",
      "|6A8D5E0EDA4E3DDEF...|B355B0350C89ABBA6...|2013-01-14 00:00:...|2013-01-14 00:04:...|               240|-73.99471300000000|40.74534200000000|-73.98728200000000|40.73651100000000|      CRD|  5.50|   1.20|          7.70|                163|                 155|                165|                 156|         0|         2|\n",
      "|6B514B32B1858E99E...|8AF4527CF6E40B6E0...|2013-01-14 00:02:...|2013-01-14 00:04:...|               120|-73.95915200000000|40.71872700000000|-73.95518500000000|40.72442200000000|      CRD|  4.00|   0.90|          5.90|                169|                 160|                168|                 161|         0|         2|\n",
      "|7B3CA0F2574FA2F44...|7EAA8BD731ECAE7D7...|2013-01-14 00:01:...|2013-01-14 00:04:...|               180|-73.96847500000000|40.75494800000000|-73.95959500000000|40.76283300000000|      CSH|  5.00|   0.00|          6.00|                161|                 159|                160|                 160|         0|         2|\n",
      "|94A3B588A3B481618...|25CF7EF0A39D61AEC...|2013-01-14 00:01:...|2013-01-14 00:04:...|               180|-73.97777600000000|40.74620800000000|-73.98406200000000|40.74045200000000|      CRD|  4.50|   1.00|          6.50|                163|                 157|                165|                 156|         0|         2|\n",
      "+--------------------+--------------------+--------------------+--------------------+------------------+------------------+-----------------+------------------+-----------------+---------+------+-------+--------------+-------------------+--------------------+-------------------+--------------------+----------+----------+\n",
      "only showing top 20 rows\n",
      "\n"
     ]
    }
   ],
   "source": [
    "filtered.show()\n"
   ]
  },
  {
   "cell_type": "code",
   "execution_count": 55,
   "metadata": {
    "collapsed": true
   },
   "outputs": [],
   "source": [
    "mes = \"06\"\n",
    "hora = \"15:00\"\n",
    "HORA_FIN = datetime.strptime(mes + \" \" + hora, \"%m %H:%M\")\n"
   ]
  },
  {
   "cell_type": "code",
   "execution_count": 56,
   "metadata": {
    "collapsed": false
   },
   "outputs": [
    {
     "name": "stdout",
     "output_type": "stream",
     "text": [
      "1900-06-01 15:00:00\n"
     ]
    }
   ],
   "source": [
    "print(HORA_FIN)"
   ]
  },
  {
   "cell_type": "code",
   "execution_count": null,
   "metadata": {
    "collapsed": true
   },
   "outputs": [],
   "source": []
  }
 ],
 "metadata": {
  "anaconda-cloud": {},
  "kernelspec": {
   "display_name": "Python [conda env:taxinyc]",
   "language": "python",
   "name": "conda-env-taxinyc-py"
  },
  "language_info": {
   "codemirror_mode": {
    "name": "ipython",
    "version": 3
   },
   "file_extension": ".py",
   "mimetype": "text/x-python",
   "name": "python",
   "nbconvert_exporter": "python",
   "pygments_lexer": "ipython3",
   "version": "3.5.2"
  }
 },
 "nbformat": 4,
 "nbformat_minor": 1
}
