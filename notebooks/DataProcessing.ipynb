{
 "cells": [
  {
   "cell_type": "code",
   "execution_count": 1,
   "metadata": {
    "collapsed": false
   },
   "outputs": [],
   "source": [
    "from pyspark.conf import SparkConf\n",
    "from pyspark.sql import SparkSession\n",
    "from pyspark.sql.types import StructType, StructField, IntegerType, StringType, DecimalType, TimestampType\n",
    "from pyspark.sql.functions import *\n",
    "import datetime\n",
    "from settings import *\n",
    "from decimal import *"
   ]
  },
  {
   "cell_type": "code",
   "execution_count": 2,
   "metadata": {
    "collapsed": false
   },
   "outputs": [
    {
     "data": {
      "text/plain": [
       "<pyspark.conf.SparkConf at 0x7faf49340a58>"
      ]
     },
     "execution_count": 2,
     "metadata": {},
     "output_type": "execute_result"
    }
   ],
   "source": [
    "\"\"\" Configuramos Spark \"\"\"\n",
    "conf = SparkConf()\n",
    "conf.setAppName(\"ProcesamientoDatos\")\n",
    "conf.setMaster(\"local[*]\")"
   ]
  },
  {
   "cell_type": "code",
   "execution_count": 3,
   "metadata": {
    "collapsed": true
   },
   "outputs": [],
   "source": [
    "spark = SparkSession.builder.config(conf=conf).getOrCreate()"
   ]
  },
  {
   "cell_type": "markdown",
   "metadata": {},
   "source": [
    "Establecemos el esquema de la tabla, es decir, los nombres de las columnas debido a que los csv aportados no contienen cabeceras. Así facilitaremos las operaciones posteriormente, al poder acceder con el nombre a los datos. Las columnas serán las siguientes:\n",
    "\n",
    "| NOMBRE             | SIGNIFICADO                                                |\n",
    "|--------------------|------------------------------------------------------------|\n",
    "| medallon           | Identificador md5sum del taxi                              |\n",
    "| licencia           | Identificador md5sum de la licencia del taxi               |\n",
    "| hora_subida        | Hora a la que se sube el/la/los/las pasajero/a/os/as       |\n",
    "| hora_bajada        | Hora a la que se baja el/la/los/las pasajero/a/os/as       |\n",
    "| duracion_viaje_seg | Duración del viaje en segundos                             |\n",
    "| distancia_viaje    | Distancia del viaje en millas                              |\n",
    "| longitud_subida    | Coordinada de longitud de la subida                        |\n",
    "| latitud_subida     | Coordinada de latitud de la subida                         |\n",
    "| longitud_bajada    | Coordinada de longitud de la bajada                        |\n",
    "| latitud_bajada     | Coordinada de latitud de la bajada                         |\n",
    "| tipo_pago          | Método de pago (Tarjeta o efectivo)                        |\n",
    "| tarifa             | Cantidad de la tarifa en dólares                           |\n",
    "| recargo            | Cantidad del recargo en dólares                            |\n",
    "| tasas              | Cantidad de las tasas en dólares                           |\n",
    "| propina            | Cantidad de la propina en dólares                          |\n",
    "| peaje              | Cantidad de los peajes de los puentes o tuneles en dólares |\n",
    "| cantidad_total     | Cantidad total en dólares                                  |"
   ]
  },
  {
   "cell_type": "code",
   "execution_count": 4,
   "metadata": {
    "collapsed": false
   },
   "outputs": [],
   "source": [
    "nombreColumnas = StructType([StructField(\"medallon\", StringType(), True),\n",
    "                             StructField(\"licencia\", StringType(), True),\n",
    "                             StructField(\"hora_subida\", TimestampType(), True),\n",
    "                             StructField(\"hora_bajada\", TimestampType(), True),\n",
    "                             StructField(\"duracion_viaje_seg\", IntegerType(), True),\n",
    "                             StructField(\"distancia_viaje\", DecimalType(precision=10, scale=2), True),\n",
    "                             StructField(\"longitud_subida\", DecimalType(precision=18, scale=14), True),\n",
    "                             StructField(\"latitud_subida\", DecimalType(precision=18, scale=14), True),\n",
    "                             StructField(\"longitud_bajada\", DecimalType(precision=18, scale=14), True),\n",
    "                             StructField(\"latitud_bajada\", DecimalType(precision=18, scale=14), True),\n",
    "                             StructField(\"tipo_pago\", StringType(), True),\n",
    "                             StructField(\"tarifa\", DecimalType(precision=10, scale=2), True),\n",
    "                             StructField(\"recargo\", DecimalType(precision=10, scale=2), True),\n",
    "                             StructField(\"tasas\", DecimalType(precision=10, scale=2), True),\n",
    "                             StructField(\"propina\", DecimalType(precision=10, scale=2), True),\n",
    "                             StructField(\"peaje\", DecimalType(precision=10, scale=2), True),\n",
    "                             StructField(\"cantidad_total\", DecimalType(precision=10, scale=2), True)])"
   ]
  },
  {
   "cell_type": "markdown",
   "metadata": {},
   "source": [
    "Leemos el csv estableciendo el esquema que queremos y el tipo de fecha establecida"
   ]
  },
  {
   "cell_type": "code",
   "execution_count": 19,
   "metadata": {
    "collapsed": false
   },
   "outputs": [],
   "source": [
    "data = spark.read.csv(\"./../datos/unprocessed/1quinientos.csv\", schema=nombreColumnas, timestampFormat=\"yyyy-MM-dd HH:mm:ss\")"
   ]
  },
  {
   "cell_type": "code",
   "execution_count": 20,
   "metadata": {
    "collapsed": false
   },
   "outputs": [
    {
     "name": "stdout",
     "output_type": "stream",
     "text": [
      "+--------------------+--------------------+--------------------+--------------------+------------------+---------------+------------------+-----------------+------------------+-----------------+---------+------+-------+-----+-------+-----+--------------+\n",
      "|            medallon|            licencia|         hora_subida|         hora_bajada|duracion_viaje_seg|distancia_viaje|   longitud_subida|   latitud_subida|   longitud_bajada|   latitud_bajada|tipo_pago|tarifa|recargo|tasas|propina|peaje|cantidad_total|\n",
      "+--------------------+--------------------+--------------------+--------------------+------------------+---------------+------------------+-----------------+------------------+-----------------+---------+------+-------+-----+-------+-----+--------------+\n",
      "|5EE2C4D3BF57BDB45...|E96EF8F6E6122591F...|2013-01-01 00:00:...|2013-01-01 00:00:...|                26|           0.10|-73.99221000000000|40.72512400000000|-73.99164600000000|40.72665800000000|      CSH|  2.50|   0.50| 0.50|   0.00| 0.00|          3.50|\n",
      "|42730E78D8BE872B5...|6016A71F1D29D678E...|2013-01-01 00:01:...|2013-01-01 00:01:...|                 0|           0.01|             0E-14|            0E-14|             0E-14|            0E-14|      CSH|  2.50|   0.50| 0.50|   0.00| 0.00|          3.50|\n",
      "|CA6CD9BAED6A85E43...|77FFDF38272A60065...|2013-01-01 00:00:...|2013-01-01 00:01:...|                61|           2.20|-73.97010000000000|40.76800500000000|-73.96977200000000|40.76783400000000|      CSH|  3.00|   0.50| 0.50|   0.00| 0.00|          4.00|\n",
      "|15162141EA7436635...|CDCB7729DE0724372...|2013-01-01 00:00:...|2013-01-01 00:01:...|                83|           0.20|-73.97544100000000|40.74965700000000|-73.97733300000000|40.75199100000000|      CSH|  3.00|   0.50| 0.50|   0.00| 0.00|          4.00|\n",
      "|025B98A22ED771118...|7D89374F8E98F30A1...|2013-01-01 00:00:...|2013-01-01 00:01:...|                60|           0.30|-74.00516500000000|40.72053100000000|-74.00392900000000|40.72565500000000|      CSH|  3.00|   0.50| 0.50|   0.00| 0.00|          4.00|\n",
      "|07290D3599E7A0D62...|E7750A37CAB07D0DF...|2013-01-01 00:00:...|2013-01-01 00:02:...|               120|           0.44|-73.95652800000000|40.71697600000000|-73.96244000000000|40.71500800000000|      CSH|  3.50|   0.50| 0.50|   0.00| 0.00|          4.50|\n",
      "|22D70BF00EEB0ADC8...|3FF2709163DE7036F...|2013-01-01 00:02:...|2013-01-01 00:02:...|                 0|           0.00|             0E-14|            0E-14|             0E-14|            0E-14|      CSH| 27.00|   0.00| 0.50|   0.00| 0.00|         27.50|\n",
      "|E79E74C15D90CD93B...|145038A0CC99D6982...|2013-01-01 00:01:...|2013-01-01 00:02:...|                60|           0.45|-73.95208000000000|40.79016900000000|-73.94892100000000|40.79432300000000|      CSH|  3.50|   0.50| 0.50|   0.00| 0.00|          4.50|\n",
      "|FD39403FDE46B6C75...|2B36D07A27BB35D7D...|2013-01-01 00:01:...|2013-01-01 00:02:...|                60|           0.34|-74.00319700000000|40.70831300000000|-74.00560800000000|40.70655100000000|      CRD|  3.50|   0.50| 0.50|   0.80| 0.00|          5.30|\n",
      "|E0F370CA508B7E8F6...|5AE4F2FB8B90CA06F...|2013-01-01 00:01:...|2013-01-01 00:02:...|                48|           1.20|-73.97789800000000|40.75791200000000|-73.97802000000000|40.75736200000000|      DIS|  2.50|   0.50| 0.50|   0.00| 0.00|          3.50|\n",
      "|08E54F4C460720DDE...|33276CA24A915CBD6...|2013-01-01 00:00:...|2013-01-01 00:02:...|               163|           0.50|-73.99987800000000|40.74334300000000|-74.00370800000000|40.74828000000000|      CRD|  4.00|   0.50| 0.50|   1.00| 0.00|          6.00|\n",
      "|81124DBD6AB03F24B...|EFEDEB0551AA8916D...|2013-01-01 00:02:...|2013-01-01 00:02:...|                 8|           0.00|-73.78158600000000|40.64479400000000|-73.78128100000000|40.64487800000000|      NOC| 20.00|   0.50| 0.00|   0.00| 0.00|         20.50|\n",
      "|8287BE67DA22E4ABB...|B19151C3FB6D993FF...|2013-01-01 00:02:...|2013-01-01 00:02:...|                48|           0.00|-73.99195900000000|40.72626900000000|-73.99222600000000|40.72551000000000|      NOC|  2.50|   0.50| 0.50|   0.00| 0.00|          3.50|\n",
      "|0CEBE42EAF42C3380...|CC7A4176549BA819E...|2013-01-01 00:00:...|2013-01-01 00:03:...|               180|           1.56|-74.00975000000000|40.70643200000000|-73.97198500000000|40.79471600000000|      CSH|  6.50|   0.50| 0.50|   0.00| 0.00|          7.50|\n",
      "|0EC22AAF491A8BD91...|778C92B26AE78A9EB...|2013-01-01 00:01:...|2013-01-01 00:03:...|               120|           0.71|-73.97314500000000|40.75282700000000|-73.96589700000000|40.76044500000000|      CSH|  4.00|   0.50| 0.50|   0.00| 0.00|          5.00|\n",
      "|1390FB380189DF6BB...|BE317B986700F63C4...|2013-01-01 00:01:...|2013-01-01 00:03:...|               120|           0.48|-74.00417300000000|40.72094700000000|-74.00383800000000|40.72618900000000|      CSH|  4.00|   0.50| 0.50|   0.00| 0.00|          5.00|\n",
      "|319AE2555940BA65D...|BAC146F5AA74DE304...|2013-01-01 00:00:...|2013-01-01 00:03:...|               180|           0.39|-73.99060800000000|40.73499700000000|-73.98948700000000|40.73032400000000|      CRD|  4.00|   0.50| 0.50|   0.90| 0.00|          5.90|\n",
      "|3B4129883A1D05BE8...|7077F9FD5AD649AEA...|2013-01-01 00:01:...|2013-01-01 00:03:...|               120|           0.61|-73.98737300000000|40.72486100000000|-73.98377200000000|40.73099500000000|      CRD|  4.00|   0.50| 0.50|   0.00| 0.00|          5.00|\n",
      "|3E7DB7D3DC9961BA3...|452B322CA3BB3132F...|2013-01-01 00:00:...|2013-01-01 00:03:...|               180|           1.52|-73.95411700000000|40.77834300000000|-73.94181800000000|40.79547900000000|      CSH|  6.00|   0.50| 0.50|   0.00| 0.00|          7.00|\n",
      "|557B02E4BC71B16C0...|10DEF6B15C01194B2...|2013-01-01 00:01:...|2013-01-01 00:03:...|               120|           0.41|-73.97617300000000|40.74494200000000|-73.98091900000000|40.74751700000000|      CSH|  4.00|   0.50| 0.50|   0.00| 0.00|          5.00|\n",
      "+--------------------+--------------------+--------------------+--------------------+------------------+---------------+------------------+-----------------+------------------+-----------------+---------+------+-------+-----+-------+-----+--------------+\n",
      "only showing top 20 rows\n",
      "\n"
     ]
    }
   ],
   "source": [
    "data.show()"
   ]
  },
  {
   "cell_type": "code",
   "execution_count": 21,
   "metadata": {
    "collapsed": true
   },
   "outputs": [],
   "source": [
    "data.createOrReplaceTempView(\"unprocessed\")"
   ]
  },
  {
   "cell_type": "markdown",
   "metadata": {},
   "source": [
    "Primero deberiamos filtrar los datos para evitar errores en la transformación de las posiciones a cuadrículas y eliminar las lineas que sean invalidas. Estas se darán en varios casos:    \n",
    "\n",
    "* Cuando el ID del taxi o de la licencia es nulo\n",
    "* Cuando las horas de subida y bajada coinciden\n",
    "* Cuando la duración del viaje sea igual a 0\n",
    "* Cuando el tipo de pago es diferente a en efectivo o con tarjeta\n",
    "* Cuando el precio total es igual a 0\n",
    "* Cuando las posiciones de inicio y final son las mismas\n",
    "* Cuando alguna coordenada de posicion no está dentro de los límites del grid\n",
    "\n",
    "Recordamos que los limites del grid se encuentran en:\n",
    "\n",
    "* Latitud inicial = 41.477182778\n",
    "* Longitud inicial = -74.916578\n",
    "* Latitud final = 40,129715978\n",
    "* Longitud final = -73.120778\n",
    "\n",
    "Por otro lado, hay datos que no nos aportan nada para las consultas que vamos a querer realizar, por tanto, no los tomaremos. Estos serán:\n",
    "\n",
    "* distancia_viaje\n",
    "* recargo\n",
    "* tasas\n",
    "* peaje\n",
    "\n",
    "Primera consulta:\n",
    "\n",
    "```sql\n",
    "SELECT \n",
    "    medallon,\n",
    "    licencia,\n",
    "    hora_subida,\n",
    "    hora_bajada,\n",
    "    duracion_viaje_seg,\n",
    "    longitud_subida,\n",
    "    latitud_subida,\n",
    "    longitud_bajada,\n",
    "    latitud_bajada,\n",
    "    tipo_pago,\n",
    "    tarifa,\n",
    "    propina,\n",
    "    cantidad_total\n",
    "FROM unprocessed \n",
    "WHERE   \n",
    "    medallon <> '' AND \n",
    "    licencia <> '' AND\n",
    "    hora_subida <> hora_bajada AND\n",
    "    duracion_viaje_seg > 0 AND\n",
    "    cantidad_total > 0 AND\n",
    "    longitud_subida <> longitud_bajada AND\n",
    "    latitud_subida <> latitud_bajada AND\n",
    "    (tipo_pago == 'CHS' OR tipo_pago == 'CRD')\n",
    "```\n",
    "\n",
    "Segunda consulta\n",
    "\n",
    "```sql\n",
    "SELECT * FROM unprocessed\n",
    "WHERE\n",
    "    (longitud_subida >= -74.916578 AND longitud_subida <= -73.120778) AND\n",
    "    (longitud_bajada >= -74.916578 AND longitud_bajada <= -73.120778) AND\n",
    "    (latitud_subida >= 40,129715978 AND latitud_subida <= 41.477182778) AND \n",
    "    (latitud_bajada >= 40,129715978 AND latitud_bajada <= 41.477182778) AND\n",
    "```\n",
    "\n",
    "La comprobación de coordenadas la hago con las funciones de spark para evitar castings"
   ]
  },
  {
   "cell_type": "code",
   "execution_count": 22,
   "metadata": {
    "collapsed": true
   },
   "outputs": [],
   "source": [
    "data = spark.sql(\"SELECT medallon, licencia, hora_subida, hora_bajada, duracion_viaje_seg, longitud_subida, latitud_subida, longitud_bajada, latitud_bajada, tipo_pago, tarifa, propina, cantidad_total FROM unprocessed WHERE medallon <> '' AND licencia <> '' AND hora_subida <> hora_bajada AND duracion_viaje_seg > 0 AND cantidad_total > 0 AND longitud_subida <> longitud_bajada AND latitud_subida <> latitud_bajada AND (tipo_pago = 'CSH' OR tipo_pago = 'CRD')\")"
   ]
  },
  {
   "cell_type": "code",
   "execution_count": 24,
   "metadata": {
    "collapsed": false
   },
   "outputs": [],
   "source": [
    "data = data.where(data.longitud_subida >= INITIAL_LONGITUDE) \\\n",
    "    .where(data.longitud_subida <= FINAL_LONGITUDE) \\\n",
    "    .where(data.longitud_bajada >= INITIAL_LONGITUDE) \\\n",
    "    .where(data.longitud_bajada <= FINAL_LONGITUDE) \\\n",
    "    .where(data.latitud_subida >= FINAL_LATITUDE) \\\n",
    "    .where(data.latitud_subida <= INITIAL_LATITUDE) \\\n",
    "    .where(data.latitud_bajada >= FINAL_LATITUDE) \\\n",
    "    .where(data.latitud_bajada <= INITIAL_LATITUDE)"
   ]
  },
  {
   "cell_type": "code",
   "execution_count": 25,
   "metadata": {
    "collapsed": false
   },
   "outputs": [
    {
     "name": "stdout",
     "output_type": "stream",
     "text": [
      "+--------------------+--------------------+--------------------+--------------------+------------------+------------------+-----------------+------------------+-----------------+---------+------+-------+--------------+\n",
      "|            medallon|            licencia|         hora_subida|         hora_bajada|duracion_viaje_seg|   longitud_subida|   latitud_subida|   longitud_bajada|   latitud_bajada|tipo_pago|tarifa|propina|cantidad_total|\n",
      "+--------------------+--------------------+--------------------+--------------------+------------------+------------------+-----------------+------------------+-----------------+---------+------+-------+--------------+\n",
      "|5EE2C4D3BF57BDB45...|E96EF8F6E6122591F...|2013-01-01 00:00:...|2013-01-01 00:00:...|                26|-73.99221000000000|40.72512400000000|-73.99164600000000|40.72665800000000|      CSH|  2.50|   0.00|          3.50|\n",
      "|CA6CD9BAED6A85E43...|77FFDF38272A60065...|2013-01-01 00:00:...|2013-01-01 00:01:...|                61|-73.97010000000000|40.76800500000000|-73.96977200000000|40.76783400000000|      CSH|  3.00|   0.00|          4.00|\n",
      "|15162141EA7436635...|CDCB7729DE0724372...|2013-01-01 00:00:...|2013-01-01 00:01:...|                83|-73.97544100000000|40.74965700000000|-73.97733300000000|40.75199100000000|      CSH|  3.00|   0.00|          4.00|\n",
      "|025B98A22ED771118...|7D89374F8E98F30A1...|2013-01-01 00:00:...|2013-01-01 00:01:...|                60|-74.00516500000000|40.72053100000000|-74.00392900000000|40.72565500000000|      CSH|  3.00|   0.00|          4.00|\n",
      "|07290D3599E7A0D62...|E7750A37CAB07D0DF...|2013-01-01 00:00:...|2013-01-01 00:02:...|               120|-73.95652800000000|40.71697600000000|-73.96244000000000|40.71500800000000|      CSH|  3.50|   0.00|          4.50|\n",
      "|E79E74C15D90CD93B...|145038A0CC99D6982...|2013-01-01 00:01:...|2013-01-01 00:02:...|                60|-73.95208000000000|40.79016900000000|-73.94892100000000|40.79432300000000|      CSH|  3.50|   0.00|          4.50|\n",
      "|FD39403FDE46B6C75...|2B36D07A27BB35D7D...|2013-01-01 00:01:...|2013-01-01 00:02:...|                60|-74.00319700000000|40.70831300000000|-74.00560800000000|40.70655100000000|      CRD|  3.50|   0.80|          5.30|\n",
      "|08E54F4C460720DDE...|33276CA24A915CBD6...|2013-01-01 00:00:...|2013-01-01 00:02:...|               163|-73.99987800000000|40.74334300000000|-74.00370800000000|40.74828000000000|      CRD|  4.00|   1.00|          6.00|\n",
      "|0CEBE42EAF42C3380...|CC7A4176549BA819E...|2013-01-01 00:00:...|2013-01-01 00:03:...|               180|-74.00975000000000|40.70643200000000|-73.97198500000000|40.79471600000000|      CSH|  6.50|   0.00|          7.50|\n",
      "|0EC22AAF491A8BD91...|778C92B26AE78A9EB...|2013-01-01 00:01:...|2013-01-01 00:03:...|               120|-73.97314500000000|40.75282700000000|-73.96589700000000|40.76044500000000|      CSH|  4.00|   0.00|          5.00|\n",
      "|1390FB380189DF6BB...|BE317B986700F63C4...|2013-01-01 00:01:...|2013-01-01 00:03:...|               120|-74.00417300000000|40.72094700000000|-74.00383800000000|40.72618900000000|      CSH|  4.00|   0.00|          5.00|\n",
      "|319AE2555940BA65D...|BAC146F5AA74DE304...|2013-01-01 00:00:...|2013-01-01 00:03:...|               180|-73.99060800000000|40.73499700000000|-73.98948700000000|40.73032400000000|      CRD|  4.00|   0.90|          5.90|\n",
      "|3B4129883A1D05BE8...|7077F9FD5AD649AEA...|2013-01-01 00:01:...|2013-01-01 00:03:...|               120|-73.98737300000000|40.72486100000000|-73.98377200000000|40.73099500000000|      CRD|  4.00|   0.00|          5.00|\n",
      "|3E7DB7D3DC9961BA3...|452B322CA3BB3132F...|2013-01-01 00:00:...|2013-01-01 00:03:...|               180|-73.95411700000000|40.77834300000000|-73.94181800000000|40.79547900000000|      CSH|  6.00|   0.00|          7.00|\n",
      "|557B02E4BC71B16C0...|10DEF6B15C01194B2...|2013-01-01 00:01:...|2013-01-01 00:03:...|               120|-73.97617300000000|40.74494200000000|-73.98091900000000|40.74751700000000|      CSH|  4.00|   0.00|          5.00|\n",
      "|5CC9B3C9725FCD7FA...|9F4A98FA581907FC2...|2013-01-01 00:00:...|2013-01-01 00:03:...|               180|-74.00140400000000|40.72261000000000|-73.99817700000000|40.72948500000000|      CSH|  4.50|   0.00|          5.50|\n",
      "|BE4A6F08A4E9CA26D...|B6B300DB052529A0A...|2013-01-01 00:00:...|2013-01-01 00:03:...|               180|-73.94613600000000|40.78134900000000|-73.94497700000000|40.79083600000000|      CSH|  4.50|   0.00|          5.50|\n",
      "|DFBFA82ECA8F7059B...|CF8604E72D83840FB...|2013-01-01 00:02:...|2013-01-01 00:03:...|                60|-73.98154400000000|40.78147500000000|-73.97943900000000|40.78438600000000|      CRD|  3.00|   0.70|          4.70|\n",
      "|E07A1976036B82DA9...|F33756EA65252C595...|2013-01-01 00:01:...|2013-01-01 00:03:...|               120|-73.98221600000000|40.76876800000000|-73.98213200000000|40.76863900000000|      CSH|  3.00|   0.00|          4.00|\n",
      "|F07E8A597F1DF9BB3...|D0626B4EF37543B01...|2013-01-01 00:02:...|2013-01-01 00:03:...|                60|-73.94461800000000|40.78313100000000|-73.94741800000000|40.77557400000000|      CSH|  4.50|   0.00|          5.50|\n",
      "+--------------------+--------------------+--------------------+--------------------+------------------+------------------+-----------------+------------------+-----------------+---------+------+-------+--------------+\n",
      "only showing top 20 rows\n",
      "\n"
     ]
    }
   ],
   "source": [
    "data.show()"
   ]
  },
  {
   "cell_type": "code",
   "execution_count": 26,
   "metadata": {
    "collapsed": false
   },
   "outputs": [
    {
     "data": {
      "text/plain": [
       "333971"
      ]
     },
     "execution_count": 26,
     "metadata": {},
     "output_type": "execute_result"
    }
   ],
   "source": [
    "data.count()"
   ]
  },
  {
   "cell_type": "markdown",
   "metadata": {},
   "source": [
    "Ahora lo que haremos será crear las nuevas columnas que tomando las posiciones de subida y bajada indiquen la cuadrícula de estas. Lo realizaremos con los siguientes cálculos:\n",
    "\n",
    "* Cuadrícula de latitud = int(floor((INITIAL_LATITUDE - latitud_subida)/LATITUDE)) + 1\n",
    "* Cuadrícula de longitud = int(floor(abs(INITIAL_LONGITUDE - longitud_dada)/LONGITUDE)) + 1\n",
    "\n",
    "La consulta en el lenguaje sería similar a esta:\n",
    "\n",
    "```sql\n",
    "SELECT\n",
    "    medallon,\n",
    "    licencia,\n",
    "    hora_subida,\n",
    "    hora_bajada,\n",
    "    duracion_viaje_seg,\n",
    "    distancia_viaje,\n",
    "    longitud_subida,\n",
    "    latitud_subida,\n",
    "    longitud_bajada,\n",
    "    latitud_bajada,\n",
    "    tipo_pago,\n",
    "    tarifa,\n",
    "    recargo,\n",
    "    tasas,\n",
    "    propina,\n",
    "    peaje,\n",
    "    cantidad_total,\n",
    "    int(floor(abs(INITIAL_LONGITUDE - longitud_subida)/LONGITUDE)) as cuad_longitud_subida,\n",
    "    int(floor((INITIAL_LATITUDE - latitud_subida)/LATITUDE)) as cuad_longitud_subida,\n",
    "    int(floor(abs(INITIAL_LONGITUDE - longitud_bajada)/LONGITUDE)) as cuad_longitud_subida,\n",
    "    int(floor((INITIAL_LATITUDE - latitud_bajada)/LATITUDE)) as cuad_longitud_subida,\n",
    "FROM unprocessed\n",
    "```"
   ]
  },
  {
   "cell_type": "markdown",
   "metadata": {},
   "source": [
    "Función para calcular el día de la semana"
   ]
  },
  {
   "cell_type": "code",
   "execution_count": 27,
   "metadata": {
    "collapsed": false
   },
   "outputs": [],
   "source": [
    "def dia_fecha(fecha):\n",
    "    return fecha.weekday()\n",
    "\n",
    "calcular_dia = udf(dia_fecha, IntegerType())"
   ]
  },
  {
   "cell_type": "code",
   "execution_count": 28,
   "metadata": {
    "collapsed": false
   },
   "outputs": [],
   "source": [
    "data = data.withColumn(\"cuad_latitud_subida\", floor((INITIAL_LATITUDE - data.latitud_subida)/LATITUDE) + 1) \\\n",
    "    .withColumn(\"cuad_longitud_subida\", floor(abs(INITIAL_LONGITUDE - data.longitud_subida)/LONGITUDE) + 1) \\\n",
    "    .withColumn(\"cuad_latitud_bajada\", floor((INITIAL_LATITUDE - data.latitud_bajada)/LATITUDE) + 1) \\\n",
    "    .withColumn(\"cuad_longitud_bajada\", floor(abs(INITIAL_LONGITUDE - data.longitud_bajada)/LONGITUDE) + 1) \\\n",
    "    .withColumn(\"dia_semana\", calcular_dia(data.hora_subida))"
   ]
  },
  {
   "cell_type": "markdown",
   "metadata": {},
   "source": [
    "Aquí podemos apreciar el esquema final de los datos"
   ]
  },
  {
   "cell_type": "code",
   "execution_count": 29,
   "metadata": {
    "collapsed": false
   },
   "outputs": [
    {
     "name": "stdout",
     "output_type": "stream",
     "text": [
      "root\n",
      " |-- medallon: string (nullable = true)\n",
      " |-- licencia: string (nullable = true)\n",
      " |-- hora_subida: timestamp (nullable = true)\n",
      " |-- hora_bajada: timestamp (nullable = true)\n",
      " |-- duracion_viaje_seg: integer (nullable = true)\n",
      " |-- longitud_subida: decimal(18,14) (nullable = true)\n",
      " |-- latitud_subida: decimal(18,14) (nullable = true)\n",
      " |-- longitud_bajada: decimal(18,14) (nullable = true)\n",
      " |-- latitud_bajada: decimal(18,14) (nullable = true)\n",
      " |-- tipo_pago: string (nullable = true)\n",
      " |-- tarifa: decimal(10,2) (nullable = true)\n",
      " |-- propina: decimal(10,2) (nullable = true)\n",
      " |-- cantidad_total: decimal(10,2) (nullable = true)\n",
      " |-- cuad_latitud_subida: long (nullable = true)\n",
      " |-- cuad_longitud_subida: long (nullable = true)\n",
      " |-- cuad_latitud_bajada: long (nullable = true)\n",
      " |-- cuad_longitud_bajada: long (nullable = true)\n",
      " |-- dia_semana: integer (nullable = true)\n",
      "\n"
     ]
    }
   ],
   "source": [
    "data.printSchema()"
   ]
  },
  {
   "cell_type": "code",
   "execution_count": 34,
   "metadata": {
    "collapsed": false
   },
   "outputs": [],
   "source": [
    "data.write.parquet(\"./../datos/processed/dios.parquet\")"
   ]
  },
  {
   "cell_type": "code",
   "execution_count": 35,
   "metadata": {
    "collapsed": false
   },
   "outputs": [],
   "source": [
    "data.write.csv(\"./../datos/processed/dios.csv\")"
   ]
  },
  {
   "cell_type": "code",
   "execution_count": null,
   "metadata": {
    "collapsed": true
   },
   "outputs": [],
   "source": []
  }
 ],
 "metadata": {
  "anaconda-cloud": {},
  "kernelspec": {
   "display_name": "Python [conda env:taxinyc]",
   "language": "python",
   "name": "conda-env-taxinyc-py"
  },
  "language_info": {
   "codemirror_mode": {
    "name": "ipython",
    "version": 3
   },
   "file_extension": ".py",
   "mimetype": "text/x-python",
   "name": "python",
   "nbconvert_exporter": "python",
   "pygments_lexer": "ipython3",
   "version": "3.5.2"
  }
 },
 "nbformat": 4,
 "nbformat_minor": 2
}
